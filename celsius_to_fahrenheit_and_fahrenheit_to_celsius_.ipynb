{
  "nbformat": 4,
  "nbformat_minor": 0,
  "metadata": {
    "colab": {
      "provenance": []
    },
    "kernelspec": {
      "name": "python3",
      "display_name": "Python 3"
    },
    "language_info": {
      "name": "python"
    }
  },
  "cells": [
    {
      "cell_type": "markdown",
      "source": [
        " Python program that converts temperature from Celsius to Fahrenheit and vice versa"
      ],
      "metadata": {
        "id": "UimtD_3bGSNW"
      }
    },
    {
      "cell_type": "code",
      "source": [
        "def celsius_to_fahrenheit(celsius):\n",
        "  fahrenheit=(celsius*9/5)+32\n",
        "  return fahrenheit\n",
        "def fahrenheit_to_celsius(fahrenheit):\n",
        "    celsius = (fahrenheit - 32) * 5/9\n",
        "    return celsius\n",
        "\n",
        "\n",
        "print(\"1. Celsius to Fahrenheit\")\n",
        "print(\"2. Fahrenheit to Celsius\")\n",
        "choice = int(input(\"Enter your choice (1 or 2): \"))\n",
        "\n",
        "\n",
        "if choice == 1:\n",
        "    celsius = float(input(\"Enter temperature in Celsius: \"))\n",
        "    fahrenheit = celsius_to_fahrenheit(celsius)\n",
        "    print(\"Temperature in Fahrenheit:\", fahrenheit)\n",
        "elif choice == 2:\n",
        "    fahrenheit = float(input(\"Enter temperature in Fahrenheit: \"))\n",
        "    celsius = fahrenheit_to_celsius(fahrenheit)\n",
        "    print(\"Temperature in Celsius:\", celsius)\n",
        "else:\n",
        "    print(\"Invalid choice. Please enter either 1 or 2.\")"
      ],
      "metadata": {
        "colab": {
          "base_uri": "https://localhost:8080/"
        },
        "id": "RHYbpycDGTA_",
        "outputId": "064a16a4-1ee3-42da-9878-4e90d7e758ad"
      },
      "execution_count": 1,
      "outputs": [
        {
          "output_type": "stream",
          "name": "stdout",
          "text": [
            "1. Celsius to Fahrenheit\n",
            "2. Fahrenheit to Celsius\n",
            "Enter your choice (1 or 2): 155\n",
            "Invalid choice. Please enter either 1 or 2.\n"
          ]
        }
      ]
    },
    {
      "cell_type": "code",
      "source": [],
      "metadata": {
        "id": "hWMCYaObH8rh"
      },
      "execution_count": null,
      "outputs": []
    }
  ]
}