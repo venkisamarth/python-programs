{
  "nbformat": 4,
  "nbformat_minor": 0,
  "metadata": {
    "colab": {
      "provenance": [],
      "authorship_tag": "ABX9TyP6oFMH1KAjktDbks4jTehx",
      "include_colab_link": true
    },
    "kernelspec": {
      "name": "python3",
      "display_name": "Python 3"
    },
    "language_info": {
      "name": "python"
    }
  },
  "cells": [
    {
      "cell_type": "markdown",
      "metadata": {
        "id": "view-in-github",
        "colab_type": "text"
      },
      "source": [
        "<a href=\"https://colab.research.google.com/github/venkisamarth/python-programs/blob/main/finds_the_frequency_of_each_character_in_a_given_string.ipynb\" target=\"_parent\"><img src=\"https://colab.research.google.com/assets/colab-badge.svg\" alt=\"Open In Colab\"/></a>"
      ]
    },
    {
      "cell_type": "code",
      "execution_count": 5,
      "metadata": {
        "colab": {
          "base_uri": "https://localhost:8080/"
        },
        "id": "LEd0Au9XFmqy",
        "outputId": "359e464f-f9e9-4241-f7ec-d436f3b71c30"
      },
      "outputs": [
        {
          "output_type": "stream",
          "name": "stdout",
          "text": [
            "Enter a string: venkatesh j mariyappanaver\n",
            "Character frequencies:\n",
            "Character 'v': 2\n",
            "Character 'e': 3\n",
            "Character 'n': 2\n",
            "Character 'k': 1\n",
            "Character 'a': 5\n",
            "Character 't': 1\n",
            "Character 's': 1\n",
            "Character 'h': 1\n",
            "Character ' ': 2\n",
            "Character 'j': 1\n",
            "Character 'm': 1\n",
            "Character 'r': 2\n",
            "Character 'i': 1\n",
            "Character 'y': 1\n",
            "Character 'p': 2\n"
          ]
        }
      ],
      "source": [
        "#Python program that finds the frequency of each character in a given string:\n",
        "\n",
        "\n",
        "\n",
        "def find_character_frequency(string):\n",
        "    frequency = {}\n",
        "\n",
        "    for char in string:\n",
        "        if char in frequency:\n",
        "            frequency[char] += 1\n",
        "        else:\n",
        "            frequency[char] = 1\n",
        "\n",
        "    return frequency\n",
        "\n",
        "# Example usage\n",
        "input_string = input(\"Enter a string: \")\n",
        "character_frequency = find_character_frequency(input_string)\n",
        "\n",
        "print(\"Character frequencies:\")\n",
        "for char, freq in character_frequency.items():\n",
        "    print(f\"Character '{char}': {freq}\")\n"
      ]
    },
    {
      "cell_type": "markdown",
      "source": [
        "\n",
        "\n",
        "In this program, we define a function called find_character_frequency that takes a string as input and returns a dictionary with the frequency of each character in the string.\n",
        "\n",
        "We initialize an empty dictionary called frequency to store the character frequencies. Then, we iterate over each character in the string using a for loop. If the character is already present in the frequency dictionary, we increment its frequency by 1. Otherwise, we add the character to the dictionary with an initial frequency of 1.\n",
        "\n",
        "Finally, we demonstrate the usage of the function by taking input from the user, calling the find_character_frequency function, and printing the character frequencies using a for loop.\n",
        "\n",
        "Note: The program considers each character individually, including whitespace and punctuation. If you want to exclude certain characters or consider case sensitivity, you can modify the program accordingly."
      ],
      "metadata": {
        "id": "_8SRD4dyWv6j"
      }
    },
    {
      "cell_type": "code",
      "source": [],
      "metadata": {
        "id": "G0CXcnuhVdD-"
      },
      "execution_count": null,
      "outputs": []
    }
  ]
}