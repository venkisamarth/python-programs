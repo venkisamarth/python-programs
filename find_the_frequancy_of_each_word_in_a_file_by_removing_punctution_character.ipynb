{
  "nbformat": 4,
  "nbformat_minor": 0,
  "metadata": {
    "colab": {
      "provenance": [],
      "authorship_tag": "ABX9TyNfxUKkrJnIxPluw9nkNGiK",
      "include_colab_link": true
    },
    "kernelspec": {
      "name": "python3",
      "display_name": "Python 3"
    },
    "language_info": {
      "name": "python"
    }
  },
  "cells": [
    {
      "cell_type": "markdown",
      "metadata": {
        "id": "view-in-github",
        "colab_type": "text"
      },
      "source": [
        "<a href=\"https://colab.research.google.com/github/venkisamarth/python-programs/blob/main/find_the_frequancy_of_each_word_in_a_file_by_removing_punctution_character.ipynb\" target=\"_parent\"><img src=\"https://colab.research.google.com/assets/colab-badge.svg\" alt=\"Open In Colab\"/></a>"
      ]
    },
    {
      "cell_type": "code",
      "execution_count": 3,
      "metadata": {
        "id": "_8CzQyOc8Y13"
      },
      "outputs": [],
      "source": [
        "import string\n",
        "def count_word_frequency(filename):\n",
        "  word_frequency={}\n",
        "  with open(filename,'r') as files:\n",
        "    for line in file:\n",
        "      line=line.translate(str.maketrans('','',string.punctution))\n",
        "      words =line.split()\n",
        "\n",
        "      for word in words:\n",
        "          word=word.lower()\n",
        "          if word in word_frequency:\n",
        "            word_frequency[word]+=1\n",
        "          else:\n",
        "              word_frequency[word] =1\n",
        "\n",
        "  return word_frequency\n",
        "  filename='exaple.txt'\n",
        "  result=count_word_frequency(filename)\n",
        "\n",
        "  for word,frequency in result.items():\n",
        "    print(f\"{word}: {frequency}\")"
      ]
    },
    {
      "cell_type": "markdown",
      "source": [
        "In this program, we define a function called count_word_frequency that takes a filename as a parameter.\n",
        "\n",
        "Inside the function, we initialize an empty dictionary called word_frequency to store the frequency of each word.\n",
        "\n",
        "We open the file using a with statement to ensure it is properly closed after reading. Then, we iterate over each line in the file.\n",
        "\n",
        "For each line, we use the translate() method along with string.punctuation to remove all punctuation characters from the line. This is done using str.maketrans('', '', string.punctuation).\n",
        "\n",
        "We split the line into words using the split() method, which separates the line into a list of words based on whitespace.\n",
        "\n",
        "Next, we iterate over each word and convert it to lowercase using the lower() method. This ensures case-insensitive counting.\n",
        "\n",
        "We check if the word is already present in the word_frequency dictionary. If it is, we increment its count by 1. Otherwise, we add the word to the dictionary with an initial count of 1.\n",
        "\n",
        "After processing all lines in the file, we return the word_frequency dictionary.\n",
        "\n",
        "In the example usage, you can provide the filename variable with the path to your input file. The program will count the frequency of each word, while removing punctuation characters, and print the results.\n",
        "\n",
        "\n",
        "\n",
        "\n"
      ],
      "metadata": {
        "id": "iKUcAQNo_2U-"
      }
    },
    {
      "cell_type": "code",
      "source": [],
      "metadata": {
        "id": "4CDD_Xgs_3nu"
      },
      "execution_count": null,
      "outputs": []
    }
  ]
}