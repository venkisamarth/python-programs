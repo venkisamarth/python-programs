{
  "nbformat": 4,
  "nbformat_minor": 0,
  "metadata": {
    "colab": {
      "provenance": [],
      "authorship_tag": "ABX9TyPD1FgrbVp3TDykao6xgVvV",
      "include_colab_link": true
    },
    "kernelspec": {
      "name": "python3",
      "display_name": "Python 3"
    },
    "language_info": {
      "name": "python"
    }
  },
  "cells": [
    {
      "cell_type": "markdown",
      "metadata": {
        "id": "view-in-github",
        "colab_type": "text"
      },
      "source": [
        "<a href=\"https://colab.research.google.com/github/venkisamarth/python-programs/blob/main/program_to_print_the_tables.ipynb\" target=\"_parent\"><img src=\"https://colab.research.google.com/assets/colab-badge.svg\" alt=\"Open In Colab\"/></a>"
      ]
    },
    {
      "cell_type": "code",
      "execution_count": 2,
      "metadata": {
        "colab": {
          "base_uri": "https://localhost:8080/"
        },
        "id": "kW0sN5zEcruB",
        "outputId": "8fc70603-9412-46a7-f6d4-134c7df96f43"
      },
      "outputs": [
        {
          "output_type": "stream",
          "name": "stdout",
          "text": [
            "Enter the number:4\n",
            "4 x 1= 4\n",
            "4 x 2= 8\n",
            "4 x 3= 12\n",
            "4 x 4= 16\n",
            "4 x 5= 20\n",
            "4 x 6= 24\n",
            "4 x 7= 28\n",
            "4 x 8= 32\n",
            "4 x 9= 36\n",
            "4 x 10= 40\n"
          ]
        }
      ],
      "source": [
        "def print_multiplication_table(number):\n",
        "  for i in range(1,11):\n",
        "    print(f'{number} x {i}= {number * i}')\n",
        "\n",
        "\n",
        "number=int(input('Enter the number:'))\n",
        "print_multiplication_table(number)\n",
        "\n",
        "\n",
        "\n"
      ]
    },
    {
      "cell_type": "markdown",
      "source": [
        "Python program that prints the multiplication table for a given number:\n",
        "\n"
      ],
      "metadata": {
        "id": "YotZ3O_1e6-C"
      }
    }
  ]
}