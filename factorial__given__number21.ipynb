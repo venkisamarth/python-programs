{
  "nbformat": 4,
  "nbformat_minor": 0,
  "metadata": {
    "colab": {
      "provenance": [],
      "authorship_tag": "ABX9TyPjIgMzjUNXHBmat/r92/R1",
      "include_colab_link": true
    },
    "kernelspec": {
      "name": "python3",
      "display_name": "Python 3"
    },
    "language_info": {
      "name": "python"
    }
  },
  "cells": [
    {
      "cell_type": "markdown",
      "metadata": {
        "id": "view-in-github",
        "colab_type": "text"
      },
      "source": [
        "<a href=\"https://colab.research.google.com/github/venkisamarth/python-programs/blob/main/factorial__given__number21.ipynb\" target=\"_parent\"><img src=\"https://colab.research.google.com/assets/colab-badge.svg\" alt=\"Open In Colab\"/></a>"
      ]
    },
    {
      "cell_type": "code",
      "execution_count": 9,
      "metadata": {
        "colab": {
          "base_uri": "https://localhost:8080/"
        },
        "id": "ULp73fW7TNpD",
        "outputId": "f1e352c7-2315-4923-d829-19dd9de4f864"
      },
      "outputs": [
        {
          "output_type": "stream",
          "name": "stdout",
          "text": [
            "Enter a number: 5\n",
            "The factorial of 5 is 120\n"
          ]
        }
      ],
      "source": [
        "def factorial(n):\n",
        "    if n == 0:\n",
        "        return 1\n",
        "    else:\n",
        "        return n * factorial(n - 1)\n",
        "\n",
        "number = int(input(\"Enter a number: \"))\n",
        "result = factorial(number)\n",
        "print(\"The factorial of\", number, \"is\", result)"
      ]
    },
    {
      "cell_type": "markdown",
      "source": [
        "Python program that calculates the factorial of a given number without using a function"
      ],
      "metadata": {
        "id": "ar-q1TozZn8E"
      }
    },
    {
      "cell_type": "code",
      "source": [
        "number = int(input(\"Enter a number: \"))\n",
        "factorial = 1\n",
        "\n",
        "if number < 0:\n",
        "    print(\"Factorial is not defined for negative numbers.\")\n",
        "elif number == 0:\n",
        "    print(\"The factorial of 0 is 1.\")\n",
        "else:\n",
        "    for i in range(1, number + 1):\n",
        "        factorial *= i\n",
        "    print(\"The factorial of\", number, \"is\", factorial)\n"
      ],
      "metadata": {
        "colab": {
          "base_uri": "https://localhost:8080/"
        },
        "id": "huKFOxa7WPPw",
        "outputId": "a5f81206-02ea-4d96-93de-0ffda70ff6ca"
      },
      "execution_count": 12,
      "outputs": [
        {
          "output_type": "stream",
          "name": "stdout",
          "text": [
            "Enter a number: 5\n",
            "The factorial of 5 is 120\n"
          ]
        }
      ]
    },
    {
      "cell_type": "markdown",
      "source": [],
      "metadata": {
        "id": "jIpyI7lyZjZp"
      }
    },
    {
      "cell_type": "code",
      "source": [],
      "metadata": {
        "id": "At_zKYODY_hU"
      },
      "execution_count": null,
      "outputs": []
    }
  ]
}