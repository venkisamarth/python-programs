{
  "nbformat": 4,
  "nbformat_minor": 0,
  "metadata": {
    "colab": {
      "provenance": []
    },
    "kernelspec": {
      "name": "python3",
      "display_name": "Python 3"
    },
    "language_info": {
      "name": "python"
    }
  },
  "cells": [
    {
      "cell_type": "markdown",
      "source": [
        " Python program that finds the largest of three numbers entered by the user:"
      ],
      "metadata": {
        "id": "_0EOwr5qruiR"
      }
    },
    {
      "cell_type": "code",
      "source": [
        "def find_largest(num1,num2,num3):\n",
        "  if num1>=num2 and num1>=num3:\n",
        "    return num1\n",
        "  elif num2>=num1 and num2>=num3:\n",
        "    return num2\n",
        "  else:\n",
        "    return num3\n",
        "\n",
        "num1=float(input('Enter the first number:  '))\n",
        "num2=float(input('Enter the second number:  '))\n",
        "num3=float(input('Enter the third number:  '))\n",
        "\n",
        "largest = find_largest(num1,num2,num2)\n",
        "print('The largest number is : ', largest)"
      ],
      "metadata": {
        "colab": {
          "base_uri": "https://localhost:8080/"
        },
        "id": "bgTkIEdbrwS6",
        "outputId": "1a8b81a0-3f2f-4317-ab4b-faa78dc7541c"
      },
      "execution_count": 1,
      "outputs": [
        {
          "output_type": "stream",
          "name": "stdout",
          "text": [
            "Enter the first number:  45\n",
            "Enter the second number:  454\n",
            "Enter the third number:  45\n",
            "The largest number is :  454.0\n"
          ]
        }
      ]
    },
    {
      "cell_type": "code",
      "source": [],
      "metadata": {
        "id": "kPEz7NeYtiz5"
      },
      "execution_count": null,
      "outputs": []
    }
  ]
}