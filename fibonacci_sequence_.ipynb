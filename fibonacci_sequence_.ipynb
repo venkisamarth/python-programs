{
  "nbformat": 4,
  "nbformat_minor": 0,
  "metadata": {
    "colab": {
      "provenance": [],
      "authorship_tag": "ABX9TyPYPHWlatvD9f9LnSeE0xly",
      "include_colab_link": true
    },
    "kernelspec": {
      "name": "python3",
      "display_name": "Python 3"
    },
    "language_info": {
      "name": "python"
    }
  },
  "cells": [
    {
      "cell_type": "markdown",
      "metadata": {
        "id": "view-in-github",
        "colab_type": "text"
      },
      "source": [
        "<a href=\"https://colab.research.google.com/github/venkisamarth/python-programs/blob/main/fibonacci_sequence_.ipynb\" target=\"_parent\"><img src=\"https://colab.research.google.com/assets/colab-badge.svg\" alt=\"Open In Colab\"/></a>"
      ]
    },
    {
      "cell_type": "markdown",
      "source": [
        "Python program that generates Fibonacci numbers using a function"
      ],
      "metadata": {
        "id": "tYJa1RL-dDlD"
      }
    },
    {
      "cell_type": "code",
      "source": [
        "def fibonacci(n):\n",
        "    if n <= 0:\n",
        "        return []\n",
        "    elif n == 1:\n",
        "        return [0]\n",
        "    elif n == 2:\n",
        "        return [0, 1]\n",
        "    else:\n",
        "        fib_sequence = [0, 1]\n",
        "        while len(fib_sequence) < n:\n",
        "            next_number = fib_sequence[-1] + fib_sequence[-2]\n",
        "            fib_sequence.append(next_number)\n",
        "        return fib_sequence\n",
        "#test the function\n",
        "num_term=int(input('Enter the number of Fibonaccoi term to generate: '))\n",
        "\n",
        "fibonacci_sequence=fibonacci(num_term)\n",
        "print(f'Fabonnacci sequance: {fibonacci_sequence}')\n"
      ],
      "metadata": {
        "colab": {
          "base_uri": "https://localhost:8080/"
        },
        "id": "uc89QnYddEa_",
        "outputId": "845c7b90-ec8b-4091-ddbb-d16c5b8658e0"
      },
      "execution_count": 11,
      "outputs": [
        {
          "output_type": "stream",
          "name": "stdout",
          "text": [
            "Enter the number of Fibonaccoi term to generate: 15\n",
            "Fabonnacci sequance: [0, 1, 1, 2, 3, 5, 8, 13, 21, 34, 55, 89, 144, 233, 377]\n"
          ]
        }
      ]
    },
    {
      "cell_type": "markdown",
      "source": [],
      "metadata": {
        "id": "u4FjY5O9hS9h"
      }
    },
    {
      "cell_type": "markdown",
      "source": [
        "In this program, the fibonacci function takes an integer n as input and returns a list containing the first n Fibonacci numbers. The function first checks for some base cases (when n is less than or equal to 0, 1, or 2) and returns the appropriate values. For n greater than 2, the function initializes a list with the first two Fibonacci numbers and then uses a while loop to generate the remaining numbers until the list has n terms.\n",
        "\n",
        "\n",
        "To use this program, you can run it in a Python environment and enter the desired number of Fibonacci terms when prompted. The program will then generate and display the corresponding Fibonacci sequence."
      ],
      "metadata": {
        "id": "n2rKhmhdhDnG"
      }
    },
    {
      "cell_type": "markdown",
      "source": [
        "Python program that generates Fibonacci numbers without using a function:"
      ],
      "metadata": {
        "id": "XwWX5D2DhU4-"
      }
    },
    {
      "cell_type": "code",
      "source": [
        "num_terms=int(input('Enter the number of Fibaonaccie term  to generate: '))\n",
        "fibonacci_sequence=[]\n",
        "if num_terms==1:\n",
        "  fibonacci_sequance=[0]\n",
        "\n",
        "elif num_terms == 2:\n",
        "  fibonacco_sequence =[0,1]\n",
        "elif num_terms > 2:\n",
        "  fibonacci_sequence=[0,1]\n",
        "  a,b=0,1\n",
        "  count=2\n",
        "  while count<num_terms:\n",
        "    next_number=a+b\n",
        "    fibonacci_sequence.append(next_number)\n",
        "    a,b=b,next_number\n",
        "    count +=1\n",
        "print(f'Fabonacci sequnce:{fibonacci_sequence}')\n",
        "\n"
      ],
      "metadata": {
        "colab": {
          "base_uri": "https://localhost:8080/"
        },
        "id": "mZR9ZhjphVwj",
        "outputId": "eee51046-e8ad-4fa9-d3c7-c4bea3f8b8e9"
      },
      "execution_count": 20,
      "outputs": [
        {
          "output_type": "stream",
          "name": "stdout",
          "text": [
            "Enter the number of Fibaonaccie term  to generate: 12\n",
            "Fabonacci sequnce:[0, 1, 1, 2, 3, 5, 8, 13, 21, 34, 55, 89]\n"
          ]
        }
      ]
    },
    {
      "cell_type": "code",
      "source": [],
      "metadata": {
        "id": "u90KAq1rjXVg"
      },
      "execution_count": null,
      "outputs": []
    },
    {
      "cell_type": "markdown",
      "source": [
        " this program, we first prompt the user to enter the number of Fibonacci terms they want to generate. Then, based on the value of num_terms, we construct the Fibonacci sequence\n",
        "\n",
        "\n",
        " If num_terms is 1, we initialize fibonacci_sequence as [0]. If num_terms is 2, we initialize fibonacci_sequence as [0, 1]. For num_terms greater than 2, we initialize fibonacci_sequence with the first two Fibonacci numbers ([0, 1]), and then we use a while loop to generate the remaining numbers until we have num_terms terms.\n",
        "\n",
        "\n",
        "Each iteration of the loop calculates the next Fibonacci number by adding the two previous numbers (a and b). We append the next number to fibonacci_sequence, update a and b to prepare for the next iteration, and increment the count variable. The loop continues until we reach num_terms Fibonacci numbers.\n"
      ],
      "metadata": {
        "id": "DuvrSRP4kenv"
      }
    },
    {
      "cell_type": "code",
      "source": [],
      "metadata": {
        "id": "4t7bek5KkooE"
      },
      "execution_count": null,
      "outputs": []
    }
  ]
}