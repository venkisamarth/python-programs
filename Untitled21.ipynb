{
  "nbformat": 4,
  "nbformat_minor": 0,
  "metadata": {
    "colab": {
      "provenance": [],
      "authorship_tag": "ABX9TyM7LoL23JCSXUeo7Dmrdc2C",
      "include_colab_link": true
    },
    "kernelspec": {
      "name": "python3",
      "display_name": "Python 3"
    },
    "language_info": {
      "name": "python"
    }
  },
  "cells": [
    {
      "cell_type": "markdown",
      "metadata": {
        "id": "view-in-github",
        "colab_type": "text"
      },
      "source": [
        "<a href=\"https://colab.research.google.com/github/venkisamarth/python-programs/blob/main/Untitled21.ipynb\" target=\"_parent\"><img src=\"https://colab.research.google.com/assets/colab-badge.svg\" alt=\"Open In Colab\"/></a>"
      ]
    },
    {
      "cell_type": "markdown",
      "source": [
        "Python program that determines whether a word is a palindrome or not:"
      ],
      "metadata": {
        "id": "CZKTxpHcKKx0"
      }
    },
    {
      "cell_type": "code",
      "source": [
        "word=input('Enter the word :  ')\n",
        "reversed_word=word[::-1]\n",
        "if  word==reversed_word:\n",
        "  print('The word is palindrome. ')\n",
        "else:\n",
        "  print('The word is not a palindrome. ')"
      ],
      "metadata": {
        "colab": {
          "base_uri": "https://localhost:8080/"
        },
        "id": "i96pJWm5KOr9",
        "outputId": "8c0ba7af-42cb-4c8d-a8a2-92853ccdef95"
      },
      "execution_count": 1,
      "outputs": [
        {
          "output_type": "stream",
          "name": "stdout",
          "text": [
            "Enter the word :  yedyd\n",
            "The word is not a palindrome. \n"
          ]
        }
      ]
    },
    {
      "cell_type": "markdown",
      "source": [
        "Finally, we compare the original word with the reversed word. If they are equal, we print that the word is a palindrome. Otherwise, we print that the word is not a palindrome.\n",
        "\n",
        "Please note that this program considers the word to be case-sensitive, meaning uppercase and lowercase letters are treated differently. If you want to ignore the case when determining palindromes, you can convert both the original word and the reversed word to lowercase or uppercase using the lower() or upper() string methods before comparing them.\n",
        "\n",
        "\n",
        "\n",
        "\n",
        "\n",
        "\n"
      ],
      "metadata": {
        "id": "Q9VHEOJQLGlD"
      }
    },
    {
      "cell_type": "markdown",
      "source": [
        "Here's an updated version of the Python program that considers the word to be a palindrome regardless of the case of the letters:"
      ],
      "metadata": {
        "id": "5KdFC1UDLqq5"
      }
    },
    {
      "cell_type": "code",
      "source": [
        "word=input('Enter the word: ')\n",
        "word=word.lower()\n",
        "reversed_word=word[::-1]\n",
        "\n",
        "if word == reversed_word:\n",
        "    print(\"The word is a palindrome.\")\n",
        "else:\n",
        "    print(\"The word is not a palindrome.\")"
      ],
      "metadata": {
        "colab": {
          "base_uri": "https://localhost:8080/"
        },
        "id": "8cJ_rmWvLrc1",
        "outputId": "5861d6b8-6393-4d67-bca8-1e7d554fd922"
      },
      "execution_count": 2,
      "outputs": [
        {
          "output_type": "stream",
          "name": "stdout",
          "text": [
            "Enter the word: sdEsdgR\n",
            "The word is not a palindrome.\n"
          ]
        }
      ]
    },
    {
      "cell_type": "code",
      "source": [],
      "metadata": {
        "id": "QAj885SzMHHZ"
      },
      "execution_count": 2,
      "outputs": []
    }
  ]
}