{
  "nbformat": 4,
  "nbformat_minor": 0,
  "metadata": {
    "colab": {
      "provenance": [],
      "authorship_tag": "ABX9TyOaKvqUz2cq1OuSyAwddIMM",
      "include_colab_link": true
    },
    "kernelspec": {
      "name": "python3",
      "display_name": "Python 3"
    },
    "language_info": {
      "name": "python"
    }
  },
  "cells": [
    {
      "cell_type": "markdown",
      "metadata": {
        "id": "view-in-github",
        "colab_type": "text"
      },
      "source": [
        "<a href=\"https://colab.research.google.com/github/venkisamarth/python-programs/blob/main/file%2C_counts_the_frequency_of_each_word.ipynb\" target=\"_parent\"><img src=\"https://colab.research.google.com/assets/colab-badge.svg\" alt=\"Open In Colab\"/></a>"
      ]
    },
    {
      "cell_type": "markdown",
      "source": [
        "Python program that reads a file, counts the frequency of each word, and displays the result:"
      ],
      "metadata": {
        "id": "eK9hzj9aHdgm"
      }
    },
    {
      "cell_type": "code",
      "source": [
        "def count_word_frequency(file_path):\n",
        "  word_freq={}\n",
        "  with open(file_path, 'r')as file:\n",
        "    for line in file:\n",
        "      word=line.strip().split()\n",
        "      for word in words:\n",
        "        if word in word_freq:\n",
        "          word_freq[word]+=1\n",
        "        else:\n",
        "          word_freq[word]  =1\n",
        "  return word_freq\n",
        "\n",
        "  word_path='path_to_your_file.txt'\n",
        "  word_frequency=count_word_frequency(file_path)\n",
        "  for word ,freq in word_frequency.items():\n",
        "    print(f'{word}:{freq}')"
      ],
      "metadata": {
        "id": "9VH0CW3GHhuq"
      },
      "execution_count": 3,
      "outputs": []
    },
    {
      "cell_type": "markdown",
      "source": [
        "In this program, the count_word_frequency function takes the file path as an input and returns a dictionary containing the frequency of each word in the file. It opens the file, reads it line by line, and splits each line into a list of words. Then it iterates over each word and updates the frequency count in the word_freq dictionary.\n",
        "\n",
        "\n",
        "To use this program, replace 'path_to_your_file.txt' with the actual path to your file. After executing the program, it will display each word along with its frequency in the file."
      ],
      "metadata": {
        "id": "IZ4b6hk0L7F1"
      }
    },
    {
      "cell_type": "code",
      "source": [],
      "metadata": {
        "id": "djlXehmRJIzz"
      },
      "execution_count": null,
      "outputs": []
    }
  ]
}