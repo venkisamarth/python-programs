{
  "nbformat": 4,
  "nbformat_minor": 0,
  "metadata": {
    "colab": {
      "provenance": [],
      "authorship_tag": "ABX9TyNlOwuamZV22BiRMf2ZRnUM",
      "include_colab_link": true
    },
    "kernelspec": {
      "name": "python3",
      "display_name": "Python 3"
    },
    "language_info": {
      "name": "python"
    }
  },
  "cells": [
    {
      "cell_type": "markdown",
      "metadata": {
        "id": "view-in-github",
        "colab_type": "text"
      },
      "source": [
        "<a href=\"https://colab.research.google.com/github/venkisamarth/python-programs/blob/main/Armstrong_number.ipynb\" target=\"_parent\"><img src=\"https://colab.research.google.com/assets/colab-badge.svg\" alt=\"Open In Colab\"/></a>"
      ]
    },
    {
      "cell_type": "code",
      "execution_count": 4,
      "metadata": {
        "colab": {
          "base_uri": "https://localhost:8080/"
        },
        "id": "4Qqu7XWkRSmb",
        "outputId": "6e0ad69f-9e6a-4572-b57e-9e6a6cccd3fa"
      },
      "outputs": [
        {
          "output_type": "stream",
          "name": "stdout",
          "text": [
            "Enter a number: 153\n",
            "The number is not an Armstrong number.\n"
          ]
        }
      ],
      "source": [
        "number = int(input(\"Enter a number: \"))\n",
        "num_of_digits = len(str(number))\n",
        "sum = 0\n",
        "temp = number\n",
        "while temp > 0:\n",
        "    digit = temp % 10\n",
        "    sum += digit * num_of_digits\n",
        "    temp //= 10\n",
        "\n",
        "if number == sum:\n",
        "    print(\"The number is an Armstrong number.\")\n",
        "else:\n",
        "    print(\"The number is not an Armstrong number.\")\n"
      ]
    },
    {
      "cell_type": "markdown",
      "source": [
        "An Armstrong number is a number that is equal to the sum of its digits raised to the power of the number of digits. For example, 153 is an Armstrong number because 1^3 + 5^3 + 3^3 = 153."
      ],
      "metadata": {
        "id": "yWJggDSWUNR6"
      }
    },
    {
      "cell_type": "code",
      "source": [],
      "metadata": {
        "id": "UsETGtYoUOKE"
      },
      "execution_count": null,
      "outputs": []
    }
  ]
}