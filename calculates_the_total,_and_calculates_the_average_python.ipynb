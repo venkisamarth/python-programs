{
  "nbformat": 4,
  "nbformat_minor": 0,
  "metadata": {
    "colab": {
      "provenance": [],
      "authorship_tag": "ABX9TyOX6sWAYGRyWwq1Ti6ikV/6",
      "include_colab_link": true
    },
    "kernelspec": {
      "name": "python3",
      "display_name": "Python 3"
    },
    "language_info": {
      "name": "python"
    }
  },
  "cells": [
    {
      "cell_type": "markdown",
      "metadata": {
        "id": "view-in-github",
        "colab_type": "text"
      },
      "source": [
        "<a href=\"https://colab.research.google.com/github/venkisamarth/python-programs/blob/main/calculates_the_total%2C_and_calculates_the_average_python.ipynb\" target=\"_parent\"><img src=\"https://colab.research.google.com/assets/colab-badge.svg\" alt=\"Open In Colab\"/></a>"
      ]
    },
    {
      "cell_type": "markdown",
      "source": [
        "Python program that reads numbers repeatedly from the user, calculates the total, and calculates the average:"
      ],
      "metadata": {
        "id": "2d6kSxMQr0ug"
      }
    },
    {
      "cell_type": "code",
      "source": [
        "total = 0\n",
        "count = 0\n",
        "\n",
        "while True:\n",
        "    num = input(\"Enter a number (or 'q' to quit): \")\n",
        "    if num.lower() == 'q':\n",
        "        break\n",
        "\n",
        "    try:\n",
        "        num = float(num)\n",
        "        total += num\n",
        "        count += 1\n",
        "    except ValueError:\n",
        "        print(\"Invalid input. Please enter a valid number.\")\n",
        "\n",
        "if count > 0:\n",
        "    average = total / count\n",
        "    print(f\"Total: {total}\")\n",
        "    print(f\"Average: {average}\")\n",
        "else:\n",
        "    print(\"No numbers entered.\")"
      ],
      "metadata": {
        "colab": {
          "base_uri": "https://localhost:8080/"
        },
        "id": "ra86VKkRvBbh",
        "outputId": "32cd7334-ce97-4c06-8515-90141bed0f7e"
      },
      "execution_count": 10,
      "outputs": [
        {
          "output_type": "stream",
          "name": "stdout",
          "text": [
            "Enter a number (or 'q' to quit): 45\n",
            "Enter a number (or 'q' to quit): 5\n",
            "Enter a number (or 'q' to quit): 45\n",
            "Enter a number (or 'q' to quit): \n",
            "Invalid input. Please enter a valid number.\n",
            "Enter a number (or 'q' to quit): 455\n",
            "Enter a number (or 'q' to quit): q\n",
            "Total: 550.0\n",
            "Average: 137.5\n"
          ]
        }
      ]
    },
    {
      "cell_type": "code",
      "source": [
        "total = 0\n",
        "count = 0\n",
        "\n",
        "while True:\n",
        "    num = input(\"Enter a number (or 'q' to quit): \")\n",
        "    if num.lower() == 'q':\n",
        "        break\n",
        "\n",
        "    try:\n",
        "        num = float(num)\n",
        "        total += num\n",
        "        count += 1\n",
        "    except ValueError:\n",
        "        print(\"Invalid input. Please enter a valid number.\")\n",
        "\n",
        "if count > 0:\n",
        "    average = total / count\n",
        "    print(f\"Total: {total}\")\n",
        "    print(f\"Average: {average}\")\n",
        "else:\n",
        "    print(\"No numbers entered.\")"
      ],
      "metadata": {
        "colab": {
          "base_uri": "https://localhost:8080/"
        },
        "id": "vDodWu4svngs",
        "outputId": "152c3e61-423d-4150-8c95-5084fd360da5"
      },
      "execution_count": 11,
      "outputs": [
        {
          "output_type": "stream",
          "name": "stdout",
          "text": [
            "Enter a number (or 'q' to quit): 5265\n",
            "Enter a number (or 'q' to quit): \n",
            "Invalid input. Please enter a valid number.\n",
            "Enter a number (or 'q' to quit): 454\n",
            "Enter a number (or 'q' to quit): \n",
            "Invalid input. Please enter a valid number.\n",
            "Enter a number (or 'q' to quit): q\n",
            "Total: 5719.0\n",
            "Average: 2859.5\n"
          ]
        }
      ]
    },
    {
      "cell_type": "code",
      "source": [
        "total = 0\n",
        "count = 0\n",
        "\n",
        "while True:\n",
        "    num = input(\"Enter a number (or 'q' to quit): \")\n",
        "    if num.lower() == 'q':\n",
        "        break\n",
        "\n",
        "    try:\n",
        "        num = float(num)\n",
        "        total += num\n",
        "        count += 1\n",
        "    except ValueError:\n",
        "        print(\"Invalid input. Please enter a valid number.\")\n",
        "\n",
        "if count > 0:\n",
        "    average = total / count\n",
        "    print(f\"Total: {total}\")\n",
        "    print(f\"Average: {average}\")\n",
        "else:\n",
        "    print(\"No numbers entered.\")"
      ],
      "metadata": {
        "colab": {
          "base_uri": "https://localhost:8080/"
        },
        "id": "Np-Uk6rrv_H6",
        "outputId": "e8cb9597-0b4f-4cf7-e686-dedd28f304bc"
      },
      "execution_count": 12,
      "outputs": [
        {
          "output_type": "stream",
          "name": "stdout",
          "text": [
            "Enter a number (or 'q' to quit): 12\n",
            "Enter a number (or 'q' to quit): 45\n",
            "Enter a number (or 'q' to quit): 45\n",
            "Enter a number (or 'q' to quit): 455\n",
            "Enter a number (or 'q' to quit): 555\n",
            "Enter a number (or 'q' to quit): 5585\n",
            "Enter a number (or 'q' to quit): q\n",
            "Total: 6697.0\n",
            "Average: 1116.1666666666667\n"
          ]
        }
      ]
    },
    {
      "cell_type": "code",
      "source": [],
      "metadata": {
        "id": "QRLoJeyEwL4L"
      },
      "execution_count": null,
      "outputs": []
    }
  ]
}