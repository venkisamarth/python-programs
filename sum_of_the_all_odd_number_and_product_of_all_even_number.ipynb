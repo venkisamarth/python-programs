{
  "nbformat": 4,
  "nbformat_minor": 0,
  "metadata": {
    "colab": {
      "provenance": [],
      "authorship_tag": "ABX9TyPNmxCZnonvSIAJaW+Cx4PS",
      "include_colab_link": true
    },
    "kernelspec": {
      "name": "python3",
      "display_name": "Python 3"
    },
    "language_info": {
      "name": "python"
    }
  },
  "cells": [
    {
      "cell_type": "markdown",
      "metadata": {
        "id": "view-in-github",
        "colab_type": "text"
      },
      "source": [
        "<a href=\"https://colab.research.google.com/github/venkisamarth/python-programs/blob/main/sum_of_the_all_odd_number_and_product_of_all_even_number.ipynb\" target=\"_parent\"><img src=\"https://colab.research.google.com/assets/colab-badge.svg\" alt=\"Open In Colab\"/></a>"
      ]
    },
    {
      "cell_type": "markdown",
      "source": [
        "python program to find the sum of the all odd number and product of all even number"
      ],
      "metadata": {
        "id": "0gr8phUL1lZt"
      }
    },
    {
      "cell_type": "code",
      "source": [
        "sum_odd =0\n",
        "product_even=1\n",
        "while True:\n",
        "  num = input(\"Enter a number (or 'q' to quit): \")\n",
        "  if  num .lower()=='q':\n",
        "    break\n",
        "  try:\n",
        "    num=int(num)\n",
        "    if num %2==0:\n",
        "      product_even*=num\n",
        "    else:\n",
        "      sum_odd+=num\n",
        "  except ValueError:\n",
        "    print(\"Invalid input. please enter a valid number.\")\n",
        "print(f'Sum of odd number :{sum_odd}')\n",
        "print(f'product of even number : {product_even}')"
      ],
      "metadata": {
        "colab": {
          "base_uri": "https://localhost:8080/"
        },
        "id": "ZoRfAxC91q4t",
        "outputId": "32486a54-eeb9-4601-eb99-f58e48f3abb4"
      },
      "execution_count": 3,
      "outputs": [
        {
          "output_type": "stream",
          "name": "stdout",
          "text": [
            "Enter a number (or 'q' to quit): 56456\n",
            "Enter a number (or 'q' to quit): 5454\n",
            "Enter a number (or 'q' to quit): 454\n",
            "Enter a number (or 'q' to quit): \n",
            "Invalid input. please enter a valid number.\n",
            "Enter a number (or 'q' to quit): \n",
            "Invalid input. please enter a valid number.\n",
            "Enter a number (or 'q' to quit): q\n",
            "Sum of odd number :0\n",
            "product of even number : 139791604896\n"
          ]
        }
      ]
    },
    {
      "cell_type": "markdown",
      "source": [
        "python program to find the sum of the all odd number and product of all even number using function"
      ],
      "metadata": {
        "id": "M5RMG07Y2GKK"
      }
    },
    {
      "cell_type": "code",
      "source": [
        "def sum_odd_numbers(numbers):\n",
        "    sum_odd = 0\n",
        "    for num in numbers:\n",
        "        if num % 2 != 0:\n",
        "            sum_odd += num\n",
        "    return sum_odd\n",
        "\n",
        "def product_even_numbers(numbers):\n",
        "    product_even = 1\n",
        "    for num in numbers:\n",
        "        if num % 2 == 0:\n",
        "            product_even *= num\n",
        "    return product_even\n",
        "\n",
        "def read_numbers():\n",
        "    number_list = []\n",
        "    while True:\n",
        "        num = input(\"Enter a number (or 'q' to quit): \")\n",
        "        if num.lower() == 'q':\n",
        "            break\n",
        "        try:\n",
        "            num = int(num)\n",
        "            number_list.append(num)\n",
        "        except ValueError:\n",
        "            print(\"Invalid input. Please enter a valid number.\")\n",
        "    return number_list\n",
        "\n",
        "numbers = read_numbers()\n",
        "sum_odd = sum_odd_numbers(numbers)\n",
        "product_even = product_even_numbers(numbers)\n",
        "\n",
        "print(f\"Sum of odd numbers: {sum_odd}\")\n",
        "print(f\"Product of even numbers: {product_even}\")\n"
      ],
      "metadata": {
        "colab": {
          "base_uri": "https://localhost:8080/"
        },
        "id": "ZYqR_Wf42HTC",
        "outputId": "7f6307c9-f507-4fd2-9c2a-7dca3eef0f08"
      },
      "execution_count": 11,
      "outputs": [
        {
          "output_type": "stream",
          "name": "stdout",
          "text": [
            "Enter a number (or 'q' to quit): 155\n",
            "Enter a number (or 'q' to quit): 5\n",
            "Enter a number (or 'q' to quit): 85\n",
            "Enter a number (or 'q' to quit): 6\n",
            "Enter a number (or 'q' to quit): 566\n",
            "Enter a number (or 'q' to quit): q\n",
            "Sum of odd numbers: 245\n",
            "Product of even numbers: 3396\n"
          ]
        }
      ]
    },
    {
      "cell_type": "markdown",
      "source": [
        "In this program, we define two functions: sum_odd_numbers and product_even_numbers.\n",
        "\n",
        "The sum_odd_numbers function takes a list of numbers as input, iterates over the numbers, and checks if each number is odd (num % 2 != 0). If it is, the number is added to the sum_odd variable. Finally, the function returns the sum_odd value.\n",
        "\n",
        "The product_even_numbers function takes a list of numbers as input, iterates over the numbers, and checks if each number is even (num % 2 == 0). If it is, the number is multiplied with the product_even variable. Finally, the function returns the product_even value.\n",
        "\n",
        "\n",
        "We also define a read_numbers function that prompts the user to enter numbers repeatedly until 'q' is entered. It converts the input to integers and appends them to a number_list, which is returned when the user quits.\n",
        "\n",
        "After calling the read_numbers function to obtain the list of numbers, we call the sum_odd_numbers function and assign the result to sum_odd. Similarly, we call the product_even_numbers function and assign the result to product_even.\n",
        "\n",
        "Finally, we display the sum_odd and product_even values, which represent the sum of all odd numbers and the product of all even numbers entered by the user, respectively.\n"
      ],
      "metadata": {
        "id": "KGtqfx7M9vp7"
      }
    },
    {
      "cell_type": "code",
      "source": [],
      "metadata": {
        "id": "uKxJAyVD-EAz"
      },
      "execution_count": null,
      "outputs": []
    }
  ]
}