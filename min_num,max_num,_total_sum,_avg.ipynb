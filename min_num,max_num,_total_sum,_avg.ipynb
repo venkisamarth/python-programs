{
  "nbformat": 4,
  "nbformat_minor": 0,
  "metadata": {
    "colab": {
      "provenance": [],
      "authorship_tag": "ABX9TyMEUoPfzde8OWs+LHHzgi/P",
      "include_colab_link": true
    },
    "kernelspec": {
      "name": "python3",
      "display_name": "Python 3"
    },
    "language_info": {
      "name": "python"
    }
  },
  "cells": [
    {
      "cell_type": "markdown",
      "metadata": {
        "id": "view-in-github",
        "colab_type": "text"
      },
      "source": [
        "<a href=\"https://colab.research.google.com/github/venkisamarth/python-programs/blob/main/min_num%2Cmax_num%2C_total_sum%2C_avg.ipynb\" target=\"_parent\"><img src=\"https://colab.research.google.com/assets/colab-badge.svg\" alt=\"Open In Colab\"/></a>"
      ]
    },
    {
      "cell_type": "code",
      "execution_count": 3,
      "metadata": {
        "colab": {
          "base_uri": "https://localhost:8080/"
        },
        "id": "ZJAtVsVaM2Ld",
        "outputId": "f643cffe-072c-44d5-ed8e-f038274543ad"
      },
      "outputs": [
        {
          "output_type": "stream",
          "name": "stdout",
          "text": [
            "Minimum number: 2\n",
            "Maximum number: 56\n",
            "Sum of numbers:126\n",
            "Average of  number:10.5\n"
          ]
        }
      ],
      "source": [
        "def analyze_number(numbers):\n",
        "  minimum=min(numbers)\n",
        "  maximum=max(numbers)\n",
        "  total =sum(numbers)\n",
        "  average= total/len(numbers)\n",
        "  return minimum,maximum, total, average\n",
        "\n",
        "\n",
        "\n",
        "num_list=[2,34,5,6,5,4,3,2,3,4,56,2]\n",
        "min_num,max_num, total_sum, avg=analyze_number(num_list)\n",
        "print(f'Minimum number: {min_num}')\n",
        "print(f'Maximum number: {max_num}')\n",
        "print(f'Sum of numbers:{total_sum}')\n",
        "print(f'Average of  number:{avg}')"
      ]
    },
    {
      "cell_type": "markdown",
      "source": [
        "python program to find minimum number, maximum number sum  and average of number in list without using function"
      ],
      "metadata": {
        "id": "SkOhBzlJOqTd"
      }
    },
    {
      "cell_type": "code",
      "source": [
        "num_list=[2,5,1,8,3]\n",
        "minimum=num_list[0]\n",
        "Maximum=num_list[0]\n",
        "total_sum=0\n",
        "for num in num_list:\n",
        "  if num<minimum:\n",
        "    minimum=num\n",
        "  if num>Maximum :\n",
        "    Maximum=num\n",
        "  total_sum +=num\n",
        "average = total_sum/len(num_list)\n",
        "print(f'Minimum number: {minimum}')\n",
        "print(f'Maximum numbers:{Maximum}')\n",
        "print(f'sum of numbers: {total_sum}')\n",
        "print(f'Average of numbers:{average}')"
      ],
      "metadata": {
        "colab": {
          "base_uri": "https://localhost:8080/"
        },
        "id": "mdN8DSaoOsUf",
        "outputId": "e3fe7acd-f5c1-4a1f-b86c-e540497235b4"
      },
      "execution_count": 6,
      "outputs": [
        {
          "output_type": "stream",
          "name": "stdout",
          "text": [
            "Minimum number: 1\n",
            "Maximum numbers:8\n",
            "sum of numbers: 19\n",
            "Average of numbers:3.8\n"
          ]
        }
      ]
    },
    {
      "cell_type": "code",
      "source": [],
      "metadata": {
        "id": "F2CYQpAjQh4o"
      },
      "execution_count": null,
      "outputs": []
    },
    {
      "cell_type": "markdown",
      "source": [
        "\n",
        "\n",
        "In this program, we initialize the minimum and maximum variables with the first element of the list. Then, we iterate over the remaining numbers in the list and update the minimum and maximum values if we find a smaller or larger number, respectively. We also keep track of the sum of all numbers by adding each number to the total_sum variable. Finally, we calculate the average by dividing the total_sum by the length of the list.\n",
        "\n",
        "Replace num_list with your own list of numbers. After executing the program, it will display the minimum number, maximum number, sum of numbers, and average of numbers in the list."
      ],
      "metadata": {
        "id": "lLv3Sz5VQwjt"
      }
    }
  ]
}