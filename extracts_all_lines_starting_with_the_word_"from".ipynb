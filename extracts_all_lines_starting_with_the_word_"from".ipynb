{
  "nbformat": 4,
  "nbformat_minor": 0,
  "metadata": {
    "colab": {
      "provenance": [],
      "authorship_tag": "ABX9TyN9NGMATnDDD6v9P/rxOoDW",
      "include_colab_link": true
    },
    "kernelspec": {
      "name": "python3",
      "display_name": "Python 3"
    },
    "language_info": {
      "name": "python"
    }
  },
  "cells": [
    {
      "cell_type": "markdown",
      "metadata": {
        "id": "view-in-github",
        "colab_type": "text"
      },
      "source": [
        "<a href=\"https://colab.research.google.com/github/venkisamarth/python-programs/blob/main/extracts_all_lines_starting_with_the_word_%22from%22.ipynb\" target=\"_parent\"><img src=\"https://colab.research.google.com/assets/colab-badge.svg\" alt=\"Open In Colab\"/></a>"
      ]
    },
    {
      "cell_type": "markdown",
      "source": [
        "Python program that extracts all lines starting with the word \"from\":\n",
        "\n"
      ],
      "metadata": {
        "id": "Nz-uw-I9x516"
      }
    },
    {
      "cell_type": "code",
      "source": [
        "def extract_lines_starting_with_from(text):\n",
        "    lines = text.split(\"\\n\")  # Split the text into lines\n",
        "    lines_starting_with_from = []\n",
        "\n",
        "    for line in lines:\n",
        "        if line.startswith(\"from\"):\n",
        "            lines_starting_with_from.append(line)\n",
        "\n",
        "    return lines_starting_with_from\n",
        "text='''from module1 inmport function1\n",
        "from module2 import function2\n",
        "print('Hello World!')\n",
        "from modle3 imoport function funstion3\n",
        "'''\n",
        "result=extract_lines_starting_with_from (text)\n",
        "for line in result:\n",
        "  print(line)\n"
      ],
      "metadata": {
        "colab": {
          "base_uri": "https://localhost:8080/"
        },
        "id": "nuN4s90ux7Li",
        "outputId": "4d4641bc-1b40-46e1-b18a-673ba01767e0"
      },
      "execution_count": 15,
      "outputs": [
        {
          "output_type": "stream",
          "name": "stdout",
          "text": [
            "from module1 inmport function1\n",
            "from module2 import function2\n",
            "from modle3 imoport function funstion3\n"
          ]
        }
      ]
    },
    {
      "cell_type": "markdown",
      "source": [
        "\n",
        "\n",
        "In this example, we define a function called extract_lines_starting_with_from that takes a single parameter, text (the input text).\n",
        "\n",
        "Inside the function, we split the text into lines using the split() method with the newline character (\"\\n\") as the separator. This creates a list of lines.\n",
        "\n",
        "We then iterate over each line and check if it starts with the word \"from\" using the startswith() method. If a line starts with \"from\", we add it to a list called lines_starting_with_from.\n",
        "\n",
        "Finally, we return the list of lines starting with \"from\". In the example usage, we provide a sample text and print each line that starts with \"from\"."
      ],
      "metadata": {
        "id": "0sFseZHi1wrj"
      }
    },
    {
      "cell_type": "code",
      "source": [
        "text=''' from module import function1\n",
        "from module2 import functoion2\n",
        "print('Hello World!')\n",
        "from module3 import function3\n",
        "'''\n",
        "lines=text.split(\"\\n\")\n",
        "lines_starting_with_from=[]\n",
        "for line in lines:\n",
        "   if line.startswith('from'):\n",
        "        lines_starting_with_from.append(line)\n",
        "for line in lines_starting_with_from:\n",
        "     print(lines)\n"
      ],
      "metadata": {
        "colab": {
          "base_uri": "https://localhost:8080/"
        },
        "id": "LyeUSWBLz2UL",
        "outputId": "98565028-36cb-45e1-9b34-10fefd1b1e7f"
      },
      "execution_count": 22,
      "outputs": [
        {
          "output_type": "stream",
          "name": "stdout",
          "text": [
            "[' from module import function1', 'from module2 import functoion2', \"print('Hello World!')\", 'from module3 import function3 ', '']\n",
            "[' from module import function1', 'from module2 import functoion2', \"print('Hello World!')\", 'from module3 import function3 ', '']\n"
          ]
        }
      ]
    },
    {
      "cell_type": "markdown",
      "source": [
        "In this program, we directly include the code without using a separate function. The process is similar to the previous example.\n",
        "\n",
        "We start by providing the input text as a multi-line string assigned to the variable text.\n",
        "\n",
        "Then, we split the text into lines using the split() method with the newline character (\"\\n\") as the separator, and store the lines in a list called lines.\n",
        "\n",
        "Next, we iterate over each line in the lines list and check if it starts with the word \"from\" using the startswith() method. If a line starts with \"from\", we add it to a new list called lines_starting_with_from.\n",
        "\n",
        "Finally, we iterate over the lines_starting_with_from list and print each line.\n",
        "\n",
        "You can customize the text variable to contain your desired input text and the program will extract and print the lines starting with \"from\"."
      ],
      "metadata": {
        "id": "KSTt5Tkw4lhZ"
      }
    },
    {
      "cell_type": "code",
      "source": [],
      "metadata": {
        "id": "sI9FVE584nX9"
      },
      "execution_count": null,
      "outputs": []
    }
  ]
}