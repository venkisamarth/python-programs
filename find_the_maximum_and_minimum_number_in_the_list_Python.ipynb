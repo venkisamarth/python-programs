{
  "nbformat": 4,
  "nbformat_minor": 0,
  "metadata": {
    "colab": {
      "provenance": [],
      "authorship_tag": "ABX9TyOsGbBPbUAduVEQPXYxc/GC",
      "include_colab_link": true
    },
    "kernelspec": {
      "name": "python3",
      "display_name": "Python 3"
    },
    "language_info": {
      "name": "python"
    }
  },
  "cells": [
    {
      "cell_type": "markdown",
      "metadata": {
        "id": "view-in-github",
        "colab_type": "text"
      },
      "source": [
        "<a href=\"https://colab.research.google.com/github/venkisamarth/python-programs/blob/main/find_the_maximum_and_minimum_number_in_the_list_Python.ipynb\" target=\"_parent\"><img src=\"https://colab.research.google.com/assets/colab-badge.svg\" alt=\"Open In Colab\"/></a>"
      ]
    },
    {
      "cell_type": "markdown",
      "source": [
        " Python program to read numbers and find the maximum and minimum number in the list"
      ],
      "metadata": {
        "id": "EKOCx0UEAsmo"
      }
    },
    {
      "cell_type": "code",
      "source": [
        "def find_max_min(numbers):\n",
        "    max_number = numbers[0]\n",
        "    min_number = numbers[0]\n",
        "    for number in numbers:\n",
        "        if number > max_number:\n",
        "            max_number = number\n",
        "        elif number < min_number:\n",
        "            min_number = number\n",
        "    return max_number, min_number\n",
        "\n",
        "if __name__ == \"__main__\":\n",
        "    numbers = [10, 4, 2, 9, 7, 5, 1, 3, 6, 8]\n",
        "    max_number, min_number = find_max_min(numbers)\n",
        "    print(\"The maximum number is\", max_number)\n",
        "    print(\"The minimum number is\", min_number)\n"
      ],
      "metadata": {
        "colab": {
          "base_uri": "https://localhost:8080/"
        },
        "id": "1JUrXxwRAwLk",
        "outputId": "5f857be7-6298-4451-cab0-cdbe239d6987"
      },
      "execution_count": 7,
      "outputs": [
        {
          "output_type": "stream",
          "name": "stdout",
          "text": [
            "The maximum number is 10\n",
            "The minimum number is 1\n"
          ]
        }
      ]
    },
    {
      "cell_type": "markdown",
      "source": [
        "This program first defines a function called find_max_min() that takes a list of numbers as input and returns the maximum and minimum numbers in the list. The function works by first initializing two variables, max_number and min_number, to the first element in the list. Then, it iterates through the list and compares each number to the current values of max_number and min_number. If the number is greater than max_number, then max_number is updated to the new number. Similarly, if the number is less than min_number, then min_number is updated to the new number. The function then returns max_number and min_number.\n",
        "\n",
        "The main function of the program then prompts the user to enter a list of numbers. The numbers are then passed to the find_max_min() function, and the maximum and minimum numbers are printed to the console.\n",
        "\n",
        "To run this program, you can save it as a Python file and then run it from the command line. For example, if you save the program as max_min.py, you can run it by typing the following command into the command line:"
      ],
      "metadata": {
        "id": "bFc3PJrcDND-"
      }
    },
    {
      "cell_type": "code",
      "source": [],
      "metadata": {
        "id": "7vRBffQnCn64"
      },
      "execution_count": null,
      "outputs": []
    }
  ]
}