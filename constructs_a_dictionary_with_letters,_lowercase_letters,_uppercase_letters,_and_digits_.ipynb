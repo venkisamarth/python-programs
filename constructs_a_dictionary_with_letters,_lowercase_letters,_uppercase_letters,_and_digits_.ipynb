{
  "nbformat": 4,
  "nbformat_minor": 0,
  "metadata": {
    "colab": {
      "provenance": [],
      "authorship_tag": "ABX9TyNy+J/h/6QjKpmWZOvCbFRT",
      "include_colab_link": true
    },
    "kernelspec": {
      "name": "python3",
      "display_name": "Python 3"
    },
    "language_info": {
      "name": "python"
    }
  },
  "cells": [
    {
      "cell_type": "markdown",
      "metadata": {
        "id": "view-in-github",
        "colab_type": "text"
      },
      "source": [
        "<a href=\"https://colab.research.google.com/github/venkisamarth/python-programs/blob/main/constructs_a_dictionary_with_letters%2C_lowercase_letters%2C_uppercase_letters%2C_and_digits_.ipynb\" target=\"_parent\"><img src=\"https://colab.research.google.com/assets/colab-badge.svg\" alt=\"Open In Colab\"/></a>"
      ]
    },
    {
      "cell_type": "markdown",
      "source": [
        "Python program that constructs a dictionary with letters, lowercase letters, uppercase letters, and digits as keys and their corresponding values:"
      ],
      "metadata": {
        "id": "Z0GjfPR-u-eH"
      }
    },
    {
      "cell_type": "code",
      "source": [
        "def construct_char_dict():\n",
        "    char_dict = {\n",
        "        \"letters\": [],\n",
        "        \"lowercase\": [],\n",
        "        \"uppercase\": [],\n",
        "        \"digits\": []\n",
        "    }\n",
        "\n",
        "    for char in range(ord('a'), ord('z') + 1):\n",
        "        char_dict[\"letters\"].append(chr(char))\n",
        "        char_dict[\"lowercase\"].append(chr(char))\n",
        "\n",
        "    for char in range(ord('A'), ord('Z') + 1):\n",
        "        char_dict[\"letters\"].append(chr(char))\n",
        "        char_dict[\"uppercase\"].append(chr(char))\n",
        "\n",
        "    for digit in range(0, 10):\n",
        "        char_dict[\"digits\"].append(str(digit))\n",
        "\n",
        "    return char_dict\n",
        "\n",
        "# Example usage\n",
        "character_dict = construct_char_dict()\n",
        "\n",
        "# Print the constructed dictionary\n",
        "for key, values in character_dict.items():\n",
        "    print(f\"{key}: {values}\")\n"
      ],
      "metadata": {
        "colab": {
          "base_uri": "https://localhost:8080/"
        },
        "id": "bbNRrSavu_RT",
        "outputId": "b6438619-2254-4131-a60f-28fff77f15b9"
      },
      "execution_count": 1,
      "outputs": [
        {
          "output_type": "stream",
          "name": "stdout",
          "text": [
            "letters: ['a', 'b', 'c', 'd', 'e', 'f', 'g', 'h', 'i', 'j', 'k', 'l', 'm', 'n', 'o', 'p', 'q', 'r', 's', 't', 'u', 'v', 'w', 'x', 'y', 'z', 'A', 'B', 'C', 'D', 'E', 'F', 'G', 'H', 'I', 'J', 'K', 'L', 'M', 'N', 'O', 'P', 'Q', 'R', 'S', 'T', 'U', 'V', 'W', 'X', 'Y', 'Z']\n",
            "lowercase: ['a', 'b', 'c', 'd', 'e', 'f', 'g', 'h', 'i', 'j', 'k', 'l', 'm', 'n', 'o', 'p', 'q', 'r', 's', 't', 'u', 'v', 'w', 'x', 'y', 'z']\n",
            "uppercase: ['A', 'B', 'C', 'D', 'E', 'F', 'G', 'H', 'I', 'J', 'K', 'L', 'M', 'N', 'O', 'P', 'Q', 'R', 'S', 'T', 'U', 'V', 'W', 'X', 'Y', 'Z']\n",
            "digits: ['0', '1', '2', '3', '4', '5', '6', '7', '8', '9']\n"
          ]
        }
      ]
    },
    {
      "cell_type": "markdown",
      "source": [
        "In this program, the construct_char_dict function constructs a dictionary char_dict with the desired keys and empty lists as values. It then iterates through the ASCII values of lowercase letters, uppercase letters, and digits, appending them to the corresponding lists in the dictionary.\n",
        "\n",
        "After running the code, it will print the constructed dictionary, showing the keys (letters, lowercase, uppercase, digits) and their respective values.\n",
        "\n",
        "Please note that the dictionary only includes ASCII letters (both lowercase and uppercase) and digits from 0 to 9. If you require additional characters or a different character set, you can modify the code accordingly."
      ],
      "metadata": {
        "id": "CrSXHPMcwouP"
      }
    },
    {
      "cell_type": "code",
      "source": [],
      "metadata": {
        "id": "jlVhUvnYwqUy"
      },
      "execution_count": null,
      "outputs": []
    }
  ]
}