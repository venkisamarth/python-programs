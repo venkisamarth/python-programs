{
  "nbformat": 4,
  "nbformat_minor": 0,
  "metadata": {
    "colab": {
      "provenance": [],
      "authorship_tag": "ABX9TyPV0sXjulBDTN4eAPzvy6+F",
      "include_colab_link": true
    },
    "kernelspec": {
      "name": "python3",
      "display_name": "Python 3"
    },
    "language_info": {
      "name": "python"
    }
  },
  "cells": [
    {
      "cell_type": "markdown",
      "metadata": {
        "id": "view-in-github",
        "colab_type": "text"
      },
      "source": [
        "<a href=\"https://colab.research.google.com/github/venkisamarth/python-programs/blob/main/avg_of__two_test_in_three_test.ipynb\" target=\"_parent\"><img src=\"https://colab.research.google.com/assets/colab-badge.svg\" alt=\"Open In Colab\"/></a>"
      ]
    },
    {
      "cell_type": "markdown",
      "source": [
        " Python program that calculates the average of the best two results among three test"
      ],
      "metadata": {
        "id": "s0m-Whq4k6cP"
      }
    },
    {
      "cell_type": "code",
      "source": [
        "test1 = float(input(\"Enter the score for test 1: \"))\n",
        "test2 = float(input(\"Enter the score for test 2: \"))\n",
        "test3 = float(input(\"Enter the score for test 3: \"))\n",
        "\n",
        "# Find the maximum score\n",
        "min_score = min(test1, test2, test3)\n",
        "\n",
        "# Find the sum of the best two scores\n",
        "sum_best_two = test1 + test2 + test3 - min_score\n",
        "\n",
        "# Calculate the average of the best two scores\n",
        "average = sum_best_two / 2\n",
        "\n",
        "print(\"The average of the best two scores is:\", average)"
      ],
      "metadata": {
        "colab": {
          "base_uri": "https://localhost:8080/"
        },
        "id": "zu3Mh-tcn9iM",
        "outputId": "c541b60e-1262-4b13-8219-351f0cf35221"
      },
      "execution_count": 6,
      "outputs": [
        {
          "output_type": "stream",
          "name": "stdout",
          "text": [
            "Enter the score for test 1: 10\n",
            "Enter the score for test 2: 20\n",
            "Enter the score for test 3: 30\n",
            "The average of the best two scores is: 25.0\n"
          ]
        }
      ]
    },
    {
      "cell_type": "markdown",
      "source": [],
      "metadata": {
        "id": "KXRhtbGIqUm3"
      }
    },
    {
      "cell_type": "code",
      "source": [
        "# Python program that calculates the average of the best two results among three tests using conditional statements\n",
        "\n",
        "test1=('Enter the score for test 1: ')\n",
        "test2=('Ener the score for test 2: ')\n",
        "test3=('Enter he score for the test 3: ')\n",
        "if test1>=test2 and test1>= test3:\n",
        "  sum_best_two=test1+max(test2,test3)\n",
        "elif test2>=test1 and test2>=test1:\n",
        "  sum_best_two=test2+max(test1,test3)\n",
        "else:\n",
        "  sum_best_two=test3+max(test1,test2)\n",
        "  average =sum_best_two/2\n",
        "\n",
        "print('The wvwrage of the best two scores is: ',average)\n"
      ],
      "metadata": {
        "colab": {
          "base_uri": "https://localhost:8080/"
        },
        "id": "kKD9lYBQpSmN",
        "outputId": "8834087a-f343-493e-a7c7-00441442120d"
      },
      "execution_count": 9,
      "outputs": [
        {
          "output_type": "stream",
          "name": "stdout",
          "text": [
            "The wvwrage of the best two scores is:  25.0\n"
          ]
        }
      ]
    }
  ]
}