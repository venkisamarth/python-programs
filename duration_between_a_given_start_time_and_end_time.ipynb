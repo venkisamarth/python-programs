{
  "nbformat": 4,
  "nbformat_minor": 0,
  "metadata": {
    "colab": {
      "provenance": [],
      "authorship_tag": "ABX9TyORT9dDNy2R3swxzcN4zt5r",
      "include_colab_link": true
    },
    "kernelspec": {
      "name": "python3",
      "display_name": "Python 3"
    },
    "language_info": {
      "name": "python"
    }
  },
  "cells": [
    {
      "cell_type": "markdown",
      "metadata": {
        "id": "view-in-github",
        "colab_type": "text"
      },
      "source": [
        "<a href=\"https://colab.research.google.com/github/venkisamarth/python-programs/blob/main/duration_between_a_given_start_time_and_end_time.ipynb\" target=\"_parent\"><img src=\"https://colab.research.google.com/assets/colab-badge.svg\" alt=\"Open In Colab\"/></a>"
      ]
    },
    {
      "cell_type": "markdown",
      "source": [
        "Python program that calculates the duration between a given start time and end time:"
      ],
      "metadata": {
        "id": "9MRPjAqHWaqC"
      }
    },
    {
      "cell_type": "code",
      "execution_count": 9,
      "metadata": {
        "colab": {
          "base_uri": "https://localhost:8080/"
        },
        "id": "_z5zyAi2Voc-",
        "outputId": "04f9e209-18c2-4d3d-82fd-ee5589fb1c23"
      },
      "outputs": [
        {
          "output_type": "stream",
          "name": "stdout",
          "text": [
            "Enter the start time (HH:MM): 4:5\n",
            "Enter the end time (HH:MM): 5:6\n",
            "Duration: 1:01:00\n"
          ]
        }
      ],
      "source": [
        "from datetime import datetime\n",
        "\n",
        "def calculate_duration(start_time, end_time):\n",
        "    format = '%H:%M'  # Specify the format of the time (hours:minutes)\n",
        "    start_datetime = datetime.strptime(start_time, format)\n",
        "    end_datetime = datetime.strptime(end_time, format)\n",
        "\n",
        "    duration = end_datetime - start_datetime\n",
        "\n",
        "    return duration\n",
        "\n",
        "# Example usage\n",
        "start_time = input(\"Enter the start time (HH:MM): \")\n",
        "end_time = input(\"Enter the end time (HH:MM): \")\n",
        "\n",
        "duration = calculate_duration(start_time, end_time)\n",
        "print(\"Duration:\", duration)\n"
      ]
    },
    {
      "cell_type": "markdown",
      "source": [
        "In this program, we use the datetime module from the Python standard library to work with time-related data. The calculate_duration function takes the start time and end time as input, converts them to datetime objects using the specified format, and calculates the duration by subtracting the start time from the end time.\n",
        "\n",
        "You can run this program and enter the start time and end time in the format \"HH:MM\". It will then output the duration between the two times."
      ],
      "metadata": {
        "id": "DocMalTPZ4dx"
      }
    },
    {
      "cell_type": "code",
      "source": [],
      "metadata": {
        "id": "6VtG_AF_Z5Wn"
      },
      "execution_count": null,
      "outputs": []
    }
  ]
}