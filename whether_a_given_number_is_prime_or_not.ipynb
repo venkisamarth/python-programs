{
  "nbformat": 4,
  "nbformat_minor": 0,
  "metadata": {
    "colab": {
      "provenance": [],
      "authorship_tag": "ABX9TyPHEpMvAZLn/M4skr+m7Rm/",
      "include_colab_link": true
    },
    "kernelspec": {
      "name": "python3",
      "display_name": "Python 3"
    },
    "language_info": {
      "name": "python"
    }
  },
  "cells": [
    {
      "cell_type": "markdown",
      "metadata": {
        "id": "view-in-github",
        "colab_type": "text"
      },
      "source": [
        "<a href=\"https://colab.research.google.com/github/venkisamarth/python-programs/blob/main/whether_a_given_number_is_prime_or_not.ipynb\" target=\"_parent\"><img src=\"https://colab.research.google.com/assets/colab-badge.svg\" alt=\"Open In Colab\"/></a>"
      ]
    },
    {
      "cell_type": "markdown",
      "source": [
        "Python program that determines whether a given number is prime or not:"
      ],
      "metadata": {
        "id": "tmmeiWMgePyk"
      }
    },
    {
      "cell_type": "code",
      "source": [
        "def is_prime(number):\n",
        "  if number<=1:\n",
        "      return False\n",
        "  for i in range(2,int(number**0.5)+1)  :\n",
        "      if number%i ==0:\n",
        "          return False\n",
        "  return True\n",
        "\n",
        "\n",
        "number=int(input('Enter a number:'))\n",
        "if is_prime(number):\n",
        "  print(number,'is a prme number.')\n",
        "else:\n",
        "  print(number,'is not a prime b=number.')\n"
      ],
      "metadata": {
        "colab": {
          "base_uri": "https://localhost:8080/"
        },
        "id": "VzYI3AIqeQz4",
        "outputId": "98c0c783-a62c-468d-e36c-c2de984b5100"
      },
      "execution_count": 3,
      "outputs": [
        {
          "output_type": "stream",
          "name": "stdout",
          "text": [
            "Enter a number:12\n",
            "12 is not a prime b=number.\n"
          ]
        }
      ]
    },
    {
      "cell_type": "markdown",
      "source": [
        "In this program, the is_prime function takes a number as input and checks if it is prime or not. The function first checks if the number is less than or equal to 1, in which case it returns False. Then it iterates from 2 to the square root of the number (rounded up to the nearest integer) and checks if the number is divisible by any of these values. If it is divisible, the function returns False. If no divisors are found, the function returns True, indicating that the number is prime.\n",
        "\n",
        "You can run this program and enter a number. It will then determine whether the number is prime or not and display the appropriate message."
      ],
      "metadata": {
        "id": "gAN0YC6Kfxlb"
      }
    }
  ]
}