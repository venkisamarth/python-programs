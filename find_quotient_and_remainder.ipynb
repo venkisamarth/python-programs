{
  "nbformat": 4,
  "nbformat_minor": 0,
  "metadata": {
    "colab": {
      "provenance": [],
      "authorship_tag": "ABX9TyPvYt1s/9BFbDO2yms7P2Pz",
      "include_colab_link": true
    },
    "kernelspec": {
      "name": "python3",
      "display_name": "Python 3"
    },
    "language_info": {
      "name": "python"
    }
  },
  "cells": [
    {
      "cell_type": "markdown",
      "metadata": {
        "id": "view-in-github",
        "colab_type": "text"
      },
      "source": [
        "<a href=\"https://colab.research.google.com/github/venkisamarth/python-programs/blob/main/find_quotient_and_remainder.ipynb\" target=\"_parent\"><img src=\"https://colab.research.google.com/assets/colab-badge.svg\" alt=\"Open In Colab\"/></a>"
      ]
    },
    {
      "cell_type": "code",
      "execution_count": 8,
      "metadata": {
        "colab": {
          "base_uri": "https://localhost:8080/"
        },
        "id": "_WSKZtspdqJ_",
        "outputId": "e3f103cc-ce71-44fb-c3ba-4d8073344e91"
      },
      "outputs": [
        {
          "output_type": "stream",
          "name": "stdout",
          "text": [
            "Dividend: 17\n",
            "Divisor: 5\n",
            "Quotient: 3\n",
            "Remainder: 2\n"
          ]
        }
      ],
      "source": [
        "#rogram in Python that uses a single function to find the quotient and remainder of a division\n",
        "def find_quotient_and_remainder(dividend, divisor):\n",
        "    quotient = dividend // divisor\n",
        "    remainder = dividend % divisor\n",
        "    return quotient, remainder\n",
        "# Example usage\n",
        "dividend = 17\n",
        "divisor = 5\n",
        "\n",
        "quotient, remainder = find_quotient_and_remainder(dividend, divisor)\n",
        "\n",
        "print(\"Dividend:\", dividend)\n",
        "print(\"Divisor:\", divisor)\n",
        "print(\"Quotient:\", quotient)\n",
        "print(\"Remainder:\", remainder)"
      ]
    },
    {
      "cell_type": "markdown",
      "source": [
        "program in Python that calculates the quotient and remainder without using a function and accepts input from the user"
      ],
      "metadata": {
        "id": "Vs8GGakIhdiX"
      }
    },
    {
      "cell_type": "code",
      "source": [
        "dividend=int(input('Enter the dividend:  '))\n",
        "divisor=int(input('Enter the divisor:  '))\n",
        "quotient =dividend//divisor\n",
        "remainder =dividend %divisor\n",
        "print('qutiioent:',quotient)\n",
        "print('Remainde:',remainder)\n"
      ],
      "metadata": {
        "colab": {
          "base_uri": "https://localhost:8080/"
        },
        "id": "u2pMMBviheyr",
        "outputId": "093e1ac4-cf1e-4e18-fa0d-ce5da66b83a9"
      },
      "execution_count": 9,
      "outputs": [
        {
          "output_type": "stream",
          "name": "stdout",
          "text": [
            "Enter the dividend:  145\n",
            "Enter the divisor:  4\n",
            "qutiioent: 36\n",
            "Remainde: 1\n"
          ]
        }
      ]
    },
    {
      "cell_type": "code",
      "source": [],
      "metadata": {
        "id": "vAE1hiGEhipN"
      },
      "execution_count": null,
      "outputs": []
    }
  ]
}