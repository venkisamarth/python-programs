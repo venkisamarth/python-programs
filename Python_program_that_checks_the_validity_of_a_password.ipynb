{
  "nbformat": 4,
  "nbformat_minor": 0,
  "metadata": {
    "colab": {
      "provenance": [],
      "authorship_tag": "ABX9TyOGHlys7+NHtpFiILIeIYkE",
      "include_colab_link": true
    },
    "kernelspec": {
      "name": "python3",
      "display_name": "Python 3"
    },
    "language_info": {
      "name": "python"
    }
  },
  "cells": [
    {
      "cell_type": "markdown",
      "metadata": {
        "id": "view-in-github",
        "colab_type": "text"
      },
      "source": [
        "<a href=\"https://colab.research.google.com/github/venkisamarth/python-programs/blob/main/Python_program_that_checks_the_validity_of_a_password.ipynb\" target=\"_parent\"><img src=\"https://colab.research.google.com/assets/colab-badge.svg\" alt=\"Open In Colab\"/></a>"
      ]
    },
    {
      "cell_type": "code",
      "execution_count": 3,
      "metadata": {
        "colab": {
          "base_uri": "https://localhost:8080/"
        },
        "id": "Vb3nc_9OWszI",
        "outputId": "5492f533-c418-4d9f-d7aa-3094df06fb0b"
      },
      "outputs": [
        {
          "output_type": "stream",
          "name": "stdout",
          "text": [
            "Enter your password.venki@018\n",
            "Valid password.\n"
          ]
        }
      ],
      "source": [
        "def is_valid_password(password):\n",
        "  if len(password)<8:\n",
        "    return False\n",
        "\n",
        "  if not any(char.isupper() for char in password):\n",
        "    return False\n",
        "  if not any(char.islower() for char in password):\n",
        "    return False\n",
        "  #check for digits\n",
        "  if not any(char.isdigit() for char in password):\n",
        "    return False\n",
        "  #check for special characters\n",
        "  special_characters='!@#$%^&*'\n",
        "  if not any (char in special_characters for char in password):\n",
        "    return False\n",
        "  #If all check pass, passward is valid\n",
        "  return True\n",
        "\n",
        "\n",
        "password=input('Enter your password.')\n",
        "if print('Valid password.'):\n",
        "\n",
        "  print(\"Invalid password.\")\n"
      ]
    },
    {
      "cell_type": "markdown",
      "source": [
        "In this program, the is_valid_password function takes the password as a parameter and performs the following checks:\n",
        "\n",
        "It checks if the password length is less than 8 characters.\n",
        "It checks if there is at least one uppercase letter in the password.\n",
        "It checks if there is at least one lowercase letter in the password.\n",
        "It checks if there is at least one digit in the password.\n",
        "It checks if there is at least one special character in the password (defined as \"!@#$%^&*\").\n",
        "You can customize the criteria or add more checks as per your requirements. After running the code, it will prompt you to enter a password, and then it will print either \"Valid password.\" or \"Invalid password.\" based on the validity of the entered password."
      ],
      "metadata": {
        "id": "G3qrgu32YwZ-"
      }
    },
    {
      "cell_type": "code",
      "source": [],
      "metadata": {
        "id": "q0Q_MyvBaOqL"
      },
      "execution_count": null,
      "outputs": []
    },
    {
      "cell_type": "markdown",
      "source": [
        " Perform the validity check without using a separate function"
      ],
      "metadata": {
        "id": "6TkwhN3jbW4g"
      }
    },
    {
      "cell_type": "code",
      "source": [
        "password = input(\"Enter your password: \")\n",
        "\n",
        "# Perform the validity check without using a separate function\n",
        "valid_password = True\n",
        "\n",
        "# Check password length\n",
        "if len(password) < 8:\n",
        "    valid_password = False\n",
        "    print(\"Password length should be at least 8 characters.\")\n",
        "\n",
        "# Check for uppercase letters\n",
        "if not any(char.isupper() for char in password):\n",
        "    valid_password = False\n",
        "    print(\"Password should contain at least one uppercase letter.\")\n",
        "\n",
        "# Check for lowercase letters\n",
        "if not any(char.islower() for char in password):\n",
        "    valid_password = False\n",
        "    print(\"Password should contain at least one lowercase letter.\")\n",
        "\n",
        "# Check for digits\n",
        "if not any(char.isdigit() for char in password):\n",
        "    valid_password = False\n",
        "    print(\"Password should contain at least one digit.\")\n",
        "\n",
        "# Check for special characters\n",
        "special_characters = \"!@#$%^&*\"\n",
        "if not any(char in special_characters for char in password):\n",
        "    valid_password = False\n",
        "    print(\"Password should contain at least one special character.\")\n",
        "\n",
        "# Print result\n",
        "if valid_password:\n",
        "    print(\"Valid password.\")\n",
        "else:\n",
        "    print(\"Invalid password.\")"
      ],
      "metadata": {
        "colab": {
          "base_uri": "https://localhost:8080/"
        },
        "id": "SKngHkOZbXi7",
        "outputId": "41b44ab5-deaf-47e7-8210-1ffa5c5cad8d"
      },
      "execution_count": 6,
      "outputs": [
        {
          "output_type": "stream",
          "name": "stdout",
          "text": [
            "Enter your password: venki\n",
            "Password length should be at least 8 characters.\n",
            "Password should contain at least one uppercase letter.\n",
            "Password should contain at least one digit.\n",
            "Password should contain at least one special character.\n",
            "Invalid password.\n"
          ]
        }
      ]
    },
    {
      "cell_type": "code",
      "source": [],
      "metadata": {
        "id": "YHQwi2sne4zr"
      },
      "execution_count": 4,
      "outputs": []
    }
  ]
}