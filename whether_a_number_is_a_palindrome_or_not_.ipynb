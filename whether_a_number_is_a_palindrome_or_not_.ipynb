{
  "nbformat": 4,
  "nbformat_minor": 0,
  "metadata": {
    "colab": {
      "provenance": [],
      "authorship_tag": "ABX9TyM48VfVQo1+uQ5RIkOu3gxM",
      "include_colab_link": true
    },
    "kernelspec": {
      "name": "python3",
      "display_name": "Python 3"
    },
    "language_info": {
      "name": "python"
    }
  },
  "cells": [
    {
      "cell_type": "markdown",
      "metadata": {
        "id": "view-in-github",
        "colab_type": "text"
      },
      "source": [
        "<a href=\"https://colab.research.google.com/github/venkisamarth/python-programs/blob/main/whether_a_number_is_a_palindrome_or_not_.ipynb\" target=\"_parent\"><img src=\"https://colab.research.google.com/assets/colab-badge.svg\" alt=\"Open In Colab\"/></a>"
      ]
    },
    {
      "cell_type": "markdown",
      "source": [
        "Python program that determines whether a number is a palindrome or not"
      ],
      "metadata": {
        "id": "HRWA7zGcGTCE"
      }
    },
    {
      "cell_type": "code",
      "source": [
        "def is_palindrome(number):\n",
        "    number_str = str(number)\n",
        "    reversed_str = number_str[::-1]\n",
        "\n",
        "    if number_str == reversed_str:\n",
        "        return True\n",
        "    else:\n",
        "        return False\n",
        "num =int(input('Enter the number: '))\n",
        "if is_palindrome(num):\n",
        "    print('The number is a palindrome.')\n",
        "else:\n",
        "    print('The number is not a palindrome.')"
      ],
      "metadata": {
        "colab": {
          "base_uri": "https://localhost:8080/"
        },
        "id": "YTZH575gGVCy",
        "outputId": "ae89a8d8-d8d6-48c0-e0ea-ad187207a4f8"
      },
      "execution_count": 5,
      "outputs": [
        {
          "output_type": "stream",
          "name": "stdout",
          "text": [
            "Enter the number: 124154\n",
            "The number is not a palindrome.\n"
          ]
        }
      ]
    },
    {
      "cell_type": "markdown",
      "source": [
        "Python program that determines whether a number is a palindrome or not without using a separate function:\n",
        "\n",
        "\n"
      ],
      "metadata": {
        "id": "rzQBxNF_JiJt"
      }
    },
    {
      "cell_type": "code",
      "source": [
        "number=int(input('Enter the number:  '))\n",
        "number_str=str(number)\n",
        "reversed_str=number_str[::-1]\n",
        "if number_str==reversed_str:\n",
        "  print('The number is palindrome.')\n",
        "else:\n",
        "  print('The number is not palindrome')"
      ],
      "metadata": {
        "colab": {
          "base_uri": "https://localhost:8080/"
        },
        "id": "lzOR0MgMGT-d",
        "outputId": "8b7b548c-4052-403e-da11-72899d9d7723"
      },
      "execution_count": 6,
      "outputs": [
        {
          "output_type": "stream",
          "name": "stdout",
          "text": [
            "Enter the number:  15785\n",
            "The number is not palindrome\n"
          ]
        }
      ]
    },
    {
      "cell_type": "code",
      "source": [],
      "metadata": {
        "id": "yDg5Am1dJc64"
      },
      "execution_count": null,
      "outputs": []
    }
  ]
}