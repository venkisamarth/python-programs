{
  "nbformat": 4,
  "nbformat_minor": 0,
  "metadata": {
    "colab": {
      "provenance": [],
      "authorship_tag": "ABX9TyO0Wg0+RUmozBt3/qV/mixS",
      "include_colab_link": true
    },
    "kernelspec": {
      "name": "python3",
      "display_name": "Python 3"
    },
    "language_info": {
      "name": "python"
    }
  },
  "cells": [
    {
      "cell_type": "markdown",
      "metadata": {
        "id": "view-in-github",
        "colab_type": "text"
      },
      "source": [
        "<a href=\"https://colab.research.google.com/github/venkisamarth/python-programs/blob/main/reverse_of_a_given_number_.ipynb\" target=\"_parent\"><img src=\"https://colab.research.google.com/assets/colab-badge.svg\" alt=\"Open In Colab\"/></a>"
      ]
    },
    {
      "cell_type": "markdown",
      "source": [
        " Python program that finds the reverse of a given number without using a function"
      ],
      "metadata": {
        "id": "kfwrY5f9bfZn"
      }
    },
    {
      "cell_type": "code",
      "source": [
        "number= int(input('Enter the number: '))\n",
        "reverse=0\n",
        "while number !=0:\n",
        "  remainder=number%10\n",
        "  reverse =reverse*10+remainder\n",
        "  number//=10\n",
        "\n",
        "print('The revers of ', number ,'is ', reverse )"
      ],
      "metadata": {
        "colab": {
          "base_uri": "https://localhost:8080/"
        },
        "id": "KCmifjSqbgVj",
        "outputId": "74050dce-7b10-4c52-f213-a43139dd8be6"
      },
      "execution_count": 2,
      "outputs": [
        {
          "output_type": "stream",
          "name": "stdout",
          "text": [
            "Enter the number: 152\n",
            "The revers of  0 is  251\n"
          ]
        }
      ]
    },
    {
      "cell_type": "code",
      "source": [],
      "metadata": {
        "id": "AXmrxjKpcj4l"
      },
      "execution_count": null,
      "outputs": []
    },
    {
      "cell_type": "markdown",
      "source": [
        "python program to find the reverse of the givn number using function"
      ],
      "metadata": {
        "id": "a7ZrzyckdZNe"
      }
    },
    {
      "cell_type": "code",
      "source": [
        "def reverse_number(number):\n",
        "    reverse = 0\n",
        "    while number != 0:\n",
        "        remainder = number % 10\n",
        "        reverse = reverse * 10 + remainder\n",
        "        number //= 10\n",
        "    return reverse\n",
        "\n",
        "number = int(input(\"Enter a number: \"))\n",
        "reversed_number = reverse_number(number)\n",
        "\n",
        "print(\"The reverse of\", number, \"is\", reversed_number)"
      ],
      "metadata": {
        "colab": {
          "base_uri": "https://localhost:8080/"
        },
        "id": "lj6lW00LdkSF",
        "outputId": "34eb0590-04c7-4c3e-fc2f-1522a1904bcb"
      },
      "execution_count": 10,
      "outputs": [
        {
          "output_type": "stream",
          "name": "stdout",
          "text": [
            "Enter a number: 1255455\n",
            "The reverse of 1255455 is 5545521\n"
          ]
        }
      ]
    },
    {
      "cell_type": "code",
      "source": [],
      "metadata": {
        "id": "g_u40Kn_emUM"
      },
      "execution_count": null,
      "outputs": []
    }
  ]
}