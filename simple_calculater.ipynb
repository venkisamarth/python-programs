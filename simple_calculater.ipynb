{
  "nbformat": 4,
  "nbformat_minor": 0,
  "metadata": {
    "colab": {
      "provenance": [],
      "authorship_tag": "ABX9TyM2tXhzcNwiwJZEQU3X7w6t",
      "include_colab_link": true
    },
    "kernelspec": {
      "name": "python3",
      "display_name": "Python 3"
    },
    "language_info": {
      "name": "python"
    }
  },
  "cells": [
    {
      "cell_type": "markdown",
      "metadata": {
        "id": "view-in-github",
        "colab_type": "text"
      },
      "source": [
        "<a href=\"https://colab.research.google.com/github/venkisamarth/python-programs/blob/main/simple_calculater.ipynb\" target=\"_parent\"><img src=\"https://colab.research.google.com/assets/colab-badge.svg\" alt=\"Open In Colab\"/></a>"
      ]
    },
    {
      "cell_type": "markdown",
      "source": [
        " Python program that constructs a simple calculator that can perform basic arithmetic operations"
      ],
      "metadata": {
        "id": "zYQlGSEfgphw"
      }
    },
    {
      "cell_type": "code",
      "source": [
        "def add(num1, num2):\n",
        "    return num1 + num2\n",
        "\n",
        "def subtract(num1, num2):\n",
        "    return num1 - num2\n",
        "\n",
        "def multiply(num1, num2):\n",
        "    return num1 * num2\n",
        "\n",
        "def divide(num1, num2):\n",
        "    if num2 == 0:\n",
        "        return \"Error: Cannot divide by zero\"\n",
        "    return num1 / num2\n",
        "\n",
        "print(\"Welcome to the Calculator!\")\n",
        "\n",
        "while True:\n",
        "    print(\"\\nSelect an operation:\")\n",
        "    print(\"1. Addition\")\n",
        "    print(\"2. Subtraction\")\n",
        "    print(\"3. Multiplication\")\n",
        "    print(\"4. Division\")\n",
        "    print(\"5. Exit\")\n",
        "\n",
        "    choice = input(\"Enter your choice (1-5): \")\n",
        "\n",
        "    if choice == '5':\n",
        "        print(\"Calculator exited.\")\n",
        "        break\n",
        "\n",
        "    num1 = float(input(\"Enter the first number: \"))\n",
        "    num2 = float(input(\"Enter the second number: \"))\n",
        "\n",
        "    if choice == '1':\n",
        "        result = add(num1, num2)\n",
        "        print(\"Result:\", result)\n",
        "    elif choice == '2':\n",
        "        result = subtract(num1, num2)\n",
        "        print(\"Result:\", result)\n",
        "    elif choice == '3':\n",
        "        result = multiply(num1, num2)\n",
        "        print(\"Result:\", result)\n",
        "    elif choice == '4':\n",
        "        result = divide(num1, num2)\n",
        "        print(\"Result:\", result)\n",
        "    else:\n",
        "        print(\"Invalid choice. Please select a valid option.\")\n"
      ],
      "metadata": {
        "colab": {
          "base_uri": "https://localhost:8080/"
        },
        "id": "Zymi47BJgqq_",
        "outputId": "51cbaf83-701c-4fed-81aa-cf111ff7bce9"
      },
      "execution_count": null,
      "outputs": [
        {
          "output_type": "stream",
          "name": "stdout",
          "text": [
            "Welcome to the Calculator!\n",
            "\n",
            "Select an operation:\n",
            "1. Addition\n",
            "2. Subtraction\n",
            "3. Multiplication\n",
            "4. Division\n",
            "5. Exit\n",
            "Enter your choice (1-5): 1\n",
            "Enter the first number: 45\n",
            "Enter the second number: 5\n",
            "Result: 50.0\n",
            "\n",
            "Select an operation:\n",
            "1. Addition\n",
            "2. Subtraction\n",
            "3. Multiplication\n",
            "4. Division\n",
            "5. Exit\n"
          ]
        }
      ]
    },
    {
      "cell_type": "markdown",
      "source": [
        "In this program, we define four functions add, subtract, multiply, and divide that perform the respective arithmetic operations. The main loop of the program continuously prompts the user for their choice of operation and takes two numbers as input. Based on the selected operation, it calls the corresponding function and displays the result.\n",
        "\n",
        "You can run this program and interact with the calculator by entering the appropriate options and numbers. The program will perform the selected arithmetic operation and display the result. To exit the calculator, choose option 5."
      ],
      "metadata": {
        "id": "FFyUMWZzjbdc"
      }
    },
    {
      "cell_type": "code",
      "source": [],
      "metadata": {
        "id": "Rt292U_ajJ43"
      },
      "execution_count": null,
      "outputs": []
    }
  ]
}