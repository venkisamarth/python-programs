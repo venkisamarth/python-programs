{
  "nbformat": 4,
  "nbformat_minor": 0,
  "metadata": {
    "colab": {
      "provenance": []
    },
    "kernelspec": {
      "name": "python3",
      "display_name": "Python 3"
    },
    "language_info": {
      "name": "python"
    }
  },
  "cells": [
    {
      "cell_type": "markdown",
      "source": [
        "Python program that finds the smallest of three numbers entered by the use"
      ],
      "metadata": {
        "id": "vyf7_vVsu9qW"
      }
    },
    {
      "cell_type": "code",
      "source": [
        "def find_smallest (num1,num2,num3):\n",
        "  if num1<=num2 and num1<=num3:\n",
        "    return num1\n",
        "  elif num2<=num1 and num2<=num3:\n",
        "    return num2\n",
        "  else:\n",
        "    return num3\n",
        "\n",
        "num1=float(input('Enter the first number: '))\n",
        "num2=float(input('enter the second number: '))\n",
        "num3=float(input('Enter the third number:  '))\n",
        "\n",
        "smallest=find_smallest(num1,num2,num3)\n",
        "print('The smallest number is :' ,smallest)\n"
      ],
      "metadata": {
        "colab": {
          "base_uri": "https://localhost:8080/"
        },
        "id": "I704b_wlvBEZ",
        "outputId": "39435e07-3827-4605-a0da-6ac463042a05"
      },
      "execution_count": 11,
      "outputs": [
        {
          "output_type": "stream",
          "name": "stdout",
          "text": [
            "Enter the first number: 45\n",
            "enter the second number: 44\n",
            "Enter the third number:  4\n",
            "The smallest number is : 4.0\n"
          ]
        }
      ]
    },
    {
      "cell_type": "code",
      "source": [
        "def find_smallest(num1, num2, num3):\n",
        "    smallest = num1\n",
        "    if num2 < smallest:\n",
        "        smallest = num2\n",
        "    if num3 < smallest:\n",
        "        smallest = num3\n",
        "    return smallest\n",
        "\n",
        "\n",
        "num1 = float(input(\"Enter the first number: \"))\n",
        "num2 = float(input(\"Enter the second number: \"))\n",
        "num3 = float(input(\"Enter the third number: \"))\n",
        "smallest = find_smallest(num1, num2, num3)\n",
        "print(\"The smallest number is:\", smallest)"
      ],
      "metadata": {
        "colab": {
          "base_uri": "https://localhost:8080/"
        },
        "id": "EUA8sQbhwvMJ",
        "outputId": "3bd6137a-9ac4-4d29-cc98-cb933532b7f7"
      },
      "execution_count": 8,
      "outputs": [
        {
          "output_type": "stream",
          "name": "stdout",
          "text": [
            "Enter the first number: 455\n",
            "Enter the second number: 455\n",
            "Enter the third number: 32\n",
            "The smallest number is: 32.0\n"
          ]
        }
      ]
    },
    {
      "cell_type": "code",
      "source": [
        "2256"
      ],
      "metadata": {
        "id": "Vz_MB5Usyj_r"
      },
      "execution_count": null,
      "outputs": []
    }
  ]
}