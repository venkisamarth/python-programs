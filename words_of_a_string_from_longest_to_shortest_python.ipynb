{
  "nbformat": 4,
  "nbformat_minor": 0,
  "metadata": {
    "colab": {
      "provenance": [],
      "authorship_tag": "ABX9TyOaIKEEiqRTBLxedtEVxkzp",
      "include_colab_link": true
    },
    "kernelspec": {
      "name": "python3",
      "display_name": "Python 3"
    },
    "language_info": {
      "name": "python"
    }
  },
  "cells": [
    {
      "cell_type": "markdown",
      "metadata": {
        "id": "view-in-github",
        "colab_type": "text"
      },
      "source": [
        "<a href=\"https://colab.research.google.com/github/venkisamarth/python-programs/blob/main/words_of_a_string_from_longest_to_shortest_python.ipynb\" target=\"_parent\"><img src=\"https://colab.research.google.com/assets/colab-badge.svg\" alt=\"Open In Colab\"/></a>"
      ]
    },
    {
      "cell_type": "markdown",
      "source": [
        "python program to disply  the words of  string  from langest to shortest"
      ],
      "metadata": {
        "id": "yo2RdYcsTb8w"
      }
    },
    {
      "cell_type": "code",
      "source": [
        "def sort_word_by_length(string):\n",
        "  words=string.split()\n",
        "  words.sort(key=lambda x : len(x),reverse=True)\n",
        "  return words\n",
        "\n",
        "\n",
        "input_string='This is a sample string to  the program '\n",
        "sorted_words=sort_word_by_length(input_string)\n",
        "\n",
        "for word in sorted_words:\n",
        "  print(word)\n"
      ],
      "metadata": {
        "colab": {
          "base_uri": "https://localhost:8080/"
        },
        "id": "qyaHgAIfTdEw",
        "outputId": "e07da2f2-9162-4877-badc-b5b60c44d48a"
      },
      "execution_count": 6,
      "outputs": [
        {
          "output_type": "stream",
          "name": "stdout",
          "text": [
            "program\n",
            "sample\n",
            "string\n",
            "This\n",
            "the\n",
            "is\n",
            "to\n",
            "a\n"
          ]
        }
      ]
    },
    {
      "cell_type": "markdown",
      "source": [
        "In this program, the sort_words_by_length function takes a string as input. It splits the string into a list of words using the split function. Then it sorts the words based on their lengths using the sort method and a lambda function as the key. The reverse=True argument is used to sort the words in descending order (from longest to shortest). Finally, it returns the sorted words.\n",
        "\n",
        "To use this program, replace input_string with your own string. After executing the program, it will display each word from the string, sorted from longest to shortest."
      ],
      "metadata": {
        "id": "pUV_bf_8Vh9m"
      }
    },
    {
      "cell_type": "code",
      "source": [],
      "metadata": {
        "id": "r6BAtiGFVju0"
      },
      "execution_count": null,
      "outputs": []
    },
    {
      "cell_type": "markdown",
      "source": [
        "python program to disply the words of string from langest to shortest without using function"
      ],
      "metadata": {
        "id": "2F56LT95clVA"
      }
    },
    {
      "cell_type": "code",
      "source": [
        "iinput_string = \"This is a sample string to test the program\"\n",
        "\n",
        "# Step 1: Split the string into words\n",
        "words = []\n",
        "current_word = \"\"\n",
        "for char in input_string:\n",
        "    if char == \" \":\n",
        "        if current_word:\n",
        "            words.append(current_word)\n",
        "        current_word = \"\"\n",
        "    else:\n",
        "        current_word += char\n",
        "if current_word:\n",
        "    words.append(current_word)\n",
        "\n",
        "# Step 2: Sort the words by length\n",
        "sorted_words = []\n",
        "while words:\n",
        "    longest_word = words[0]\n",
        "    for word in words:\n",
        "        if len(word) > len(longest_word):\n",
        "            longest_word = word\n",
        "    sorted_words.append(longest_word)\n",
        "    words.remove(longest_word)\n",
        "\n",
        "# Step 3: Display the sorted words\n",
        "for word in sorted_words:\n",
        "    print(word)\n"
      ],
      "metadata": {
        "colab": {
          "base_uri": "https://localhost:8080/"
        },
        "id": "r-lQrZZncmL-",
        "outputId": "7b0e06ee-999b-4a33-f75f-4aac503e921e"
      },
      "execution_count": 7,
      "outputs": [
        {
          "output_type": "stream",
          "name": "stdout",
          "text": [
            "program\n",
            "sample\n",
            "string\n",
            "This\n",
            "the\n",
            "is\n",
            "to\n",
            "a\n"
          ]
        }
      ]
    },
    {
      "cell_type": "markdown",
      "source": [
        "In this program, we manually split the input string into words by iterating through each character. We keep track of the current word being formed and append it to the words list when we encounter a space. After splitting the string into words, we then sort the words by length using a simple algorithm. We iterate over the words list and find the longest word, append it to the sorted_words list, and remove it from the words list. We repeat this process until all words have been sorted. Finally, we display the sorted words.\n",
        "\n",
        "Replace input_string with your own string. After executing the program, it will display each word from the string, sorted from longest to shortest, without using built-in functions."
      ],
      "metadata": {
        "id": "_QOY7XQjdvIf"
      }
    },
    {
      "cell_type": "code",
      "source": [],
      "metadata": {
        "id": "mTSnZx7KdwCq"
      },
      "execution_count": null,
      "outputs": []
    }
  ]
}