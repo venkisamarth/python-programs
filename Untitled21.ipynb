{
  "nbformat": 4,
  "nbformat_minor": 0,
  "metadata": {
    "colab": {
      "provenance": [],
      "authorship_tag": "ABX9TyOYWDJ1dJqU0O/qgTMZft9N",
      "include_colab_link": true
    },
    "kernelspec": {
      "name": "python3",
      "display_name": "Python 3"
    },
    "language_info": {
      "name": "python"
    }
  },
  "cells": [
    {
      "cell_type": "markdown",
      "metadata": {
        "id": "view-in-github",
        "colab_type": "text"
      },
      "source": [
        "<a href=\"https://colab.research.google.com/github/venkisamarth/python-programs/blob/main/Untitled21.ipynb\" target=\"_parent\"><img src=\"https://colab.research.google.com/assets/colab-badge.svg\" alt=\"Open In Colab\"/></a>"
      ]
    },
    {
      "cell_type": "markdown",
      "source": [
        "Python program that calculates the perimeter and area of a circle when the radius is given"
      ],
      "metadata": {
        "id": "4qqCbGFYak6_"
      }
    },
    {
      "cell_type": "code",
      "source": [
        "def calculate_circle_perimeter(radius):\n",
        "    perimeter = 2 * math.pi * radius\n",
        "    return perimeter\n",
        "\n",
        "def calculate_circle_area(radius):\n",
        "    area = math.pi * radius**2\n",
        "    return area\n",
        "\n",
        "# Example usage\n",
        "radius = float(input(\"Enter the radius of the circle: \"))\n",
        "\n",
        "perimeter = calculate_circle_perimeter(radius)\n",
        "print(\"Perimeter of the circle:\", perimeter)\n",
        "\n",
        "area = calculate_circle_area(radius)\n",
        "print(\"Area of the circle:\", area)"
      ],
      "metadata": {
        "colab": {
          "base_uri": "https://localhost:8080/"
        },
        "id": "XURcLkCNamY3",
        "outputId": "a6bceb07-0e1c-4559-8bb2-a969c7d7f69f"
      },
      "execution_count": 3,
      "outputs": [
        {
          "output_type": "stream",
          "name": "stdout",
          "text": [
            "Enter the radius of the circle45\n",
            "perimeter of the cirlce: None\n",
            "Area of the circle: 6361.725123519331\n"
          ]
        }
      ]
    },
    {
      "cell_type": "markdown",
      "source": [
        "In this program, we use the math module to access the value of π (pi) and perform mathematical calculations. The calculate_circle_perimeter function takes the radius as input and calculates the perimeter using the formula 2 * π * radius. The calculate_circle_area function also takes the radius as input and calculates the area using the formula π * radius^2.\n",
        "\n",
        "You can run this program and enter the radius of the circle. It will then output the perimeter and area of the circle based on the provided radius."
      ],
      "metadata": {
        "id": "5nNXnuHPdV8w"
      }
    },
    {
      "cell_type": "code",
      "source": [],
      "metadata": {
        "id": "yMtl9tYedW_f"
      },
      "execution_count": null,
      "outputs": []
    }
  ]
}