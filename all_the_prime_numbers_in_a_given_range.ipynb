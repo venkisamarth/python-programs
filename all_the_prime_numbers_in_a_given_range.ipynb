{
  "nbformat": 4,
  "nbformat_minor": 0,
  "metadata": {
    "colab": {
      "provenance": [],
      "authorship_tag": "ABX9TyNkfCSJw6wd5KFkO3mB9Vg1",
      "include_colab_link": true
    },
    "kernelspec": {
      "name": "python3",
      "display_name": "Python 3"
    },
    "language_info": {
      "name": "python"
    }
  },
  "cells": [
    {
      "cell_type": "markdown",
      "metadata": {
        "id": "view-in-github",
        "colab_type": "text"
      },
      "source": [
        "<a href=\"https://colab.research.google.com/github/venkisamarth/python-programs/blob/main/all_the_prime_numbers_in_a_given_range.ipynb\" target=\"_parent\"><img src=\"https://colab.research.google.com/assets/colab-badge.svg\" alt=\"Open In Colab\"/></a>"
      ]
    },
    {
      "cell_type": "markdown",
      "source": [
        " Python program that finds all the prime numbers in a given range:"
      ],
      "metadata": {
        "id": "4GG5JFfoU4pv"
      }
    },
    {
      "cell_type": "code",
      "source": [
        "lower=int(input('Enter the lower  limit of the  range: '))\n",
        "upper=int(input('Enter the upper limit of the range'))\n",
        "\n",
        "print('Prime number between ', lower, 'and',upper,'are:')\n",
        "for num in range(lower,upper +1):\n",
        "  if num >1:\n",
        "    is_prime=True\n",
        "    for i in range(2, int(num**0.5)+1):\n",
        "      if num %i ==0:\n",
        "        is_prime  = False\n",
        "        break\n",
        "    if is_prime:\n",
        "      print(num)"
      ],
      "metadata": {
        "colab": {
          "base_uri": "https://localhost:8080/"
        },
        "id": "yG_jkWlZU5it",
        "outputId": "b4c0fe12-076d-4074-d19e-d01c45425481"
      },
      "execution_count": 2,
      "outputs": [
        {
          "output_type": "stream",
          "name": "stdout",
          "text": [
            "Enter the lower  limit of the  range: 1\n",
            "Enter the upper limit of the range20\n",
            "Prime number between  1 and 20 are:\n",
            "2\n",
            "3\n",
            "5\n",
            "7\n",
            "11\n",
            "13\n",
            "17\n",
            "19\n"
          ]
        }
      ]
    },
    {
      "cell_type": "code",
      "source": [],
      "metadata": {
        "id": "qy7xz_eYWdjd"
      },
      "execution_count": null,
      "outputs": []
    }
  ]
}